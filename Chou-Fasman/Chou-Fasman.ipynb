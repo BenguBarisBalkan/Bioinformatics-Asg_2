{
 "cells": [
  {
   "cell_type": "markdown",
   "metadata": {},
   "source": [
    "# Chou-Fasman"
   ]
  },
  {
   "cell_type": "code",
   "execution_count": 4,
   "metadata": {},
   "outputs": [],
   "source": [
    "prot_seq = 'MASQNRDPAATSVAAARKGAEPSGGAARGPVGKRLQQELMTLMMSGDKGISAFPESDNLFKWVGTIHGAAGTVYEDLRYKLSLEFPSGYPYNAPTVKFLTPCYHPNVDTQGNICLDILKEKWSALYDVRTILLSIQSLLGEPNIDSPLNTHAAELWKNPTAFKKYLQETYSKQVTSQEP'"
   ]
  },
  {
   "cell_type": "code",
   "execution_count": 5,
   "metadata": {},
   "outputs": [
    {
     "data": {
      "text/plain": [
       "'                      \\nA    Alanine             1.42 0.83 0.66 0.06  0.076 0.035 0.058\\nR    Arginine            0.98 0.93 0.95 0.070 0.106 0.099 0.085\\nD    Aspartic Acid       1.01 0.54 1.46 0.147 0.110 0.179 0.081\\nN    Asparagine          0.67 0.89 1.56 0.161 0.083 0.191 0.091\\nC    Cysteine            0.70 1.19 1.19 0.149 0.050 0.117 0.128\\nE    Glutamic Acid       1.39 1.17 0.74 0.056 0.060 0.077 0.064\\nQ    Glutamine           1.11 1.10 0.98 0.074 0.098 0.037 0.098\\nG    Glycine             0.57 0.75 1.56 0.102 0.085 0.190 0.152\\nH    Histidine           1.00 0.87 0.95 0.140 0.047 0.093 0.054\\nI    Isoleucine          1.08 1.60 0.47 0.043 0.034 0.013 0.056\\nL    Leucine             1.41 1.30 0.59 0.061 0.025 0.036 0.070\\nK    Lysine              1.14 0.74 1.01 0.055 0.115 0.072 0.095\\nM    Methionine          1.45 1.05 0.60 0.068 0.082 0.014 0.055\\nF    Phenylalanine       1.13 1.38 0.60 0.059 0.041 0.065 0.065\\nP    Proline             0.57 0.55 1.52 0.102 0.301 0.034 0.068\\nS    Serine              0.77 0.75 1.43 0.120 0.139 0.125 0.106\\nT    Threonine           0.83 1.19 0.96 0.086 0.108 0.065 0.079\\nW    Tryptophan          1.08 1.37 0.96 0.077 0.013 0.064 0.167\\nY    Tyrosine            0.69 1.47 1.14 0.082 0.065 0.114 0.125\\nV    Valine              1.06 1.70 0.50 0.062 0.048 0.028 0.053\\n'"
      ]
     },
     "execution_count": 5,
     "metadata": {},
     "output_type": "execute_result"
    }
   ],
   "source": [
    "'''                      \n",
    "A    Alanine             1.42 0.83 0.66 0.06  0.076 0.035 0.058\n",
    "R    Arginine            0.98 0.93 0.95 0.070 0.106 0.099 0.085\n",
    "D    Aspartic Acid       1.01 0.54 1.46 0.147 0.110 0.179 0.081\n",
    "N    Asparagine          0.67 0.89 1.56 0.161 0.083 0.191 0.091\n",
    "C    Cysteine            0.70 1.19 1.19 0.149 0.050 0.117 0.128\n",
    "E    Glutamic Acid       1.39 1.17 0.74 0.056 0.060 0.077 0.064\n",
    "Q    Glutamine           1.11 1.10 0.98 0.074 0.098 0.037 0.098\n",
    "G    Glycine             0.57 0.75 1.56 0.102 0.085 0.190 0.152\n",
    "H    Histidine           1.00 0.87 0.95 0.140 0.047 0.093 0.054\n",
    "I    Isoleucine          1.08 1.60 0.47 0.043 0.034 0.013 0.056\n",
    "L    Leucine             1.41 1.30 0.59 0.061 0.025 0.036 0.070\n",
    "K    Lysine              1.14 0.74 1.01 0.055 0.115 0.072 0.095\n",
    "M    Methionine          1.45 1.05 0.60 0.068 0.082 0.014 0.055\n",
    "F    Phenylalanine       1.13 1.38 0.60 0.059 0.041 0.065 0.065\n",
    "P    Proline             0.57 0.55 1.52 0.102 0.301 0.034 0.068\n",
    "S    Serine              0.77 0.75 1.43 0.120 0.139 0.125 0.106\n",
    "T    Threonine           0.83 1.19 0.96 0.086 0.108 0.065 0.079\n",
    "W    Tryptophan          1.08 1.37 0.96 0.077 0.013 0.064 0.167\n",
    "Y    Tyrosine            0.69 1.47 1.14 0.082 0.065 0.114 0.125\n",
    "V    Valine              1.06 1.70 0.50 0.062 0.048 0.028 0.053\n",
    "'''"
   ]
  },
  {
   "cell_type": "code",
   "execution_count": 6,
   "metadata": {},
   "outputs": [
    {
     "data": {
      "text/plain": [
       "['A    Alanine             1.42   0.83    0.66    0.06    0.076   0.035   0.058\\n',\n",
       " 'R    Arginine            0.98   0.93    0.95    0.070   0.106   0.099   0.085\\n',\n",
       " 'D    Aspartic_Acid       1.01   0.54    1.46    0.147   0.110   0.179   0.081\\n',\n",
       " 'N    Asparagine          0.67   0.89    1.56    0.161   0.083   0.191   0.091\\n',\n",
       " 'C    Cysteine            0.70   1.19    1.19    0.149   0.050   0.117   0.128\\n',\n",
       " 'E    Glutamic_Acid       1.39   1.17    0.74    0.056   0.060   0.077   0.064\\n',\n",
       " 'Q    Glutamine           1.11   1.10    0.98    0.074   0.098   0.037   0.098\\n',\n",
       " 'G    Glycine             0.57   0.75    1.56    0.102   0.085   0.190   0.152\\n',\n",
       " 'H    Histidine           1.00   0.87    0.95    0.140   0.047   0.093   0.054\\n',\n",
       " 'I    Isoleucine          1.08   1.60    0.47    0.043   0.034   0.013   0.056\\n',\n",
       " 'L    Leucine             1.41   1.30    0.59    0.061   0.025   0.036   0.070\\n',\n",
       " 'K    Lysine              1.14   0.74    1.01    0.055   0.115   0.072   0.095\\n',\n",
       " 'M    Methionine          1.45   1.05    0.60    0.068   0.082   0.014   0.055\\n',\n",
       " 'F    Phenylalanine       1.13   1.38    0.60    0.059   0.041   0.065   0.065\\n',\n",
       " 'P    Proline             0.57   0.55    1.52    0.102   0.301   0.034   0.068\\n',\n",
       " 'S    Serine              0.77   0.75    1.43    0.120   0.139   0.125   0.106\\n',\n",
       " 'T    Threonine           0.83   1.19    0.96    0.086   0.108   0.065   0.079\\n',\n",
       " 'W    Tryptophan          1.08   1.37    0.96    0.077   0.013   0.064   0.167\\n',\n",
       " 'Y    Tyrosine            0.69   1.47    1.14    0.082   0.065   0.114   0.125\\n',\n",
       " 'V    Valine              1.06   1.70    0.50    0.062   0.048   0.028   0.053']"
      ]
     },
     "execution_count": 6,
     "metadata": {},
     "output_type": "execute_result"
    }
   ],
   "source": [
    "info_lines = []\n",
    "with open(\"aa table.txt\", 'r') as file:\n",
    "    for line in file:\n",
    "        info_lines.append(line)\n",
    "\n",
    "info_lines"
   ]
  },
  {
   "cell_type": "code",
   "execution_count": 7,
   "metadata": {},
   "outputs": [],
   "source": [
    "alpha = dict()\n",
    "beta = dict()\n",
    "turn = dict()\n",
    "f_i = dict()\n",
    "f_i1 = dict()\n",
    "f_i2 = dict()\n",
    "f_i3 = dict()"
   ]
  },
  {
   "cell_type": "code",
   "execution_count": 8,
   "metadata": {},
   "outputs": [
    {
     "name": "stdout",
     "output_type": "stream",
     "text": [
      "['A', 'Alanine', '1.42', '0.83', '0.66', '0.06', '0.076', '0.035', '0.058']\n",
      "['R', 'Arginine', '0.98', '0.93', '0.95', '0.070', '0.106', '0.099', '0.085']\n",
      "['D', 'Aspartic_Acid', '1.01', '0.54', '1.46', '0.147', '0.110', '0.179', '0.081']\n",
      "['N', 'Asparagine', '0.67', '0.89', '1.56', '0.161', '0.083', '0.191', '0.091']\n",
      "['C', 'Cysteine', '0.70', '1.19', '1.19', '0.149', '0.050', '0.117', '0.128']\n",
      "['E', 'Glutamic_Acid', '1.39', '1.17', '0.74', '0.056', '0.060', '0.077', '0.064']\n",
      "['Q', 'Glutamine', '1.11', '1.10', '0.98', '0.074', '0.098', '0.037', '0.098']\n",
      "['G', 'Glycine', '0.57', '0.75', '1.56', '0.102', '0.085', '0.190', '0.152']\n",
      "['H', 'Histidine', '1.00', '0.87', '0.95', '0.140', '0.047', '0.093', '0.054']\n",
      "['I', 'Isoleucine', '1.08', '1.60', '0.47', '0.043', '0.034', '0.013', '0.056']\n",
      "['L', 'Leucine', '1.41', '1.30', '0.59', '0.061', '0.025', '0.036', '0.070']\n",
      "['K', 'Lysine', '1.14', '0.74', '1.01', '0.055', '0.115', '0.072', '0.095']\n",
      "['M', 'Methionine', '1.45', '1.05', '0.60', '0.068', '0.082', '0.014', '0.055']\n",
      "['F', 'Phenylalanine', '1.13', '1.38', '0.60', '0.059', '0.041', '0.065', '0.065']\n",
      "['P', 'Proline', '0.57', '0.55', '1.52', '0.102', '0.301', '0.034', '0.068']\n",
      "['S', 'Serine', '0.77', '0.75', '1.43', '0.120', '0.139', '0.125', '0.106']\n",
      "['T', 'Threonine', '0.83', '1.19', '0.96', '0.086', '0.108', '0.065', '0.079']\n",
      "['W', 'Tryptophan', '1.08', '1.37', '0.96', '0.077', '0.013', '0.064', '0.167']\n",
      "['Y', 'Tyrosine', '0.69', '1.47', '1.14', '0.082', '0.065', '0.114', '0.125']\n",
      "['V', 'Valine', '1.06', '1.70', '0.50', '0.062', '0.048', '0.028', '0.053']\n"
     ]
    }
   ],
   "source": [
    "for line in info_lines:\n",
    "    info = line.strip().split()\n",
    "    print(info)\n",
    "    alpha[info[0]] = float(info[2])\n",
    "    beta[info[0]] = float(info[3])\n",
    "    turn[info[0]] = float(info[4])\n",
    "    f_i[info[0]] = float(info[5])\n",
    "    f_i1[info[0]] = float(info[6])\n",
    "    f_i2[info[0]] = float(info[7])\n",
    "    f_i3[info[0]] = float(info[8])\n",
    "    "
   ]
  },
  {
   "cell_type": "code",
   "execution_count": 9,
   "metadata": {},
   "outputs": [
    {
     "name": "stdout",
     "output_type": "stream",
     "text": [
      "1.42\n"
     ]
    }
   ],
   "source": [
    "print(alpha['A'])"
   ]
  },
  {
   "cell_type": "code",
   "execution_count": 10,
   "metadata": {},
   "outputs": [
    {
     "name": "stdout",
     "output_type": "stream",
     "text": [
      "M\n"
     ]
    }
   ],
   "source": [
    "print(prot_seq[0])"
   ]
  },
  {
   "cell_type": "code",
   "execution_count": 11,
   "metadata": {},
   "outputs": [],
   "source": [
    "i = 0\n",
    "alpha_seq = '-' * len(prot_seq)\n",
    "\n",
    "while(i < len(prot_seq) -5):\n",
    "\n",
    "    #sliding window\n",
    "    count = 0\n",
    "    for aa in range(i, i+6):\n",
    "        if alpha[prot_seq[aa]] > 1.0:\n",
    "            count += 1\n",
    "    \n",
    "    \n",
    "    #extend region\n",
    "    if count >= 4:\n",
    "        start = 0\n",
    "        if(alpha[prot_seq[i]] < 1.0 and alpha[prot_seq[i+1]] < 1.0):\n",
    "            start = i+1\n",
    "        elif(alpha[prot_seq[i]] < 1.0 and alpha[prot_seq[i+1]] > 1.0):\n",
    "            start = i\n",
    "        else:\n",
    "            start = i-1\n",
    "\n",
    "        while(start - 3 >= 0):\n",
    "            consequtives = [alpha[prot_seq[start-3]], alpha[prot_seq[start-2]], alpha[prot_seq[start-1]], alpha[prot_seq[start]]]\n",
    "            \n",
    "            if max(consequtives) < 1.0:\n",
    "                start = start +1\n",
    "                break\n",
    "\n",
    "            else:\n",
    "                start -= 1\n",
    "        \n",
    "        end = 0\n",
    "        if(alpha[prot_seq[i+4]] < 1.0 and alpha[prot_seq[i+5]] < 1.0):\n",
    "            end = i+4\n",
    "        elif(alpha[prot_seq[i+4]] > 1.0 and alpha[prot_seq[i+5]] < 1.0):\n",
    "            end = i+5\n",
    "        else:\n",
    "            end = i+6\n",
    "\n",
    "        while(end + 3 <= len(prot_seq) -1):\n",
    "            consequtives = [alpha[prot_seq[end]], alpha[prot_seq[end+1]], alpha[prot_seq[end+2]], alpha[prot_seq[end+3]]]\n",
    "            \n",
    "            if max(consequtives) < 1.0:\n",
    "                break\n",
    "            else: \n",
    "                end +=1\n",
    "             \n",
    "\n",
    "        alpha_seq = list(alpha_seq)\n",
    "        for aa in range(start, end):\n",
    "            alpha_seq[aa] = 'A'\n",
    "        alpha_seq = ''.join(alpha_seq)\n",
    "\n",
    "        i += end - 1\n",
    "\n",
    "\n",
    "    i +=1\n"
   ]
  },
  {
   "cell_type": "code",
   "execution_count": 12,
   "metadata": {},
   "outputs": [
    {
     "data": {
      "text/plain": [
       "'--AAAAAAAAAAAAAAAAAAA----AAAAAAAAAAAAAAAAAAAAAAAAAAAAAAAAAAAAAAAAAAAAAAAAAAAAAAAAAAAA------------------AAAAAAAAAAAAAAAAAAAAAAAAAAAAAAAAAAAAAAAAAAAAAAAAAAAAAAAAAAAAAAAAAAAAAAAAA---'"
      ]
     },
     "execution_count": 12,
     "metadata": {},
     "output_type": "execute_result"
    }
   ],
   "source": [
    "alpha_seq"
   ]
  },
  {
   "cell_type": "code",
   "execution_count": 13,
   "metadata": {},
   "outputs": [],
   "source": [
    "i = 0\n",
    "beta_seq = '-' * len(prot_seq)\n",
    "\n",
    "while(i < len(prot_seq) -5):\n",
    "\n",
    "    #sliding window\n",
    "    count = 0\n",
    "    for aa in range(i, i+6):\n",
    "        if beta[prot_seq[aa]] > 1.0:\n",
    "            count += 1\n",
    "    \n",
    "    if count >= 4:\n",
    "        start = 0\n",
    "        if(alpha[prot_seq[i]] < 1.0 and alpha[prot_seq[i+1]] < 1.0):\n",
    "            start = i+1\n",
    "        elif(alpha[prot_seq[i]] < 1.0 and alpha[prot_seq[i+1]] > 1.0):\n",
    "            start = i\n",
    "        else:\n",
    "            start = i-1\n",
    "\n",
    "        while(start - 3 >= 0):\n",
    "            consequtives = [alpha[prot_seq[start-3]], alpha[prot_seq[start-2]], alpha[prot_seq[start-1]], alpha[prot_seq[start]]]\n",
    "            \n",
    "            if max(consequtives) < 1.0:\n",
    "                start = start +1\n",
    "                break\n",
    "\n",
    "            else:\n",
    "                start -= 1\n",
    "        \n",
    "        end = 0\n",
    "        if(alpha[prot_seq[i+4]] < 1.0 and alpha[prot_seq[i+5]] < 1.0):\n",
    "            end = i+4\n",
    "        elif(alpha[prot_seq[i+4]] > 1.0 and alpha[prot_seq[i+5]] < 1.0):\n",
    "            end = i+5\n",
    "        else:\n",
    "            end = i+6\n",
    "\n",
    "        while(end + 3 <= len(prot_seq) -1):\n",
    "            consequtives = [alpha[prot_seq[end]], alpha[prot_seq[end+1]], alpha[prot_seq[end+2]], alpha[prot_seq[end+3]]]\n",
    "\n",
    "            if max(consequtives) < 1.0:\n",
    "                break\n",
    "            else: \n",
    "                end +=1\n",
    "\n",
    "        beta_seq = list(beta_seq)\n",
    "        for aa in range(start, end):\n",
    "            beta_seq[aa] = 'B'\n",
    "        beta_seq = ''.join(beta_seq)\n",
    "\n",
    "        i += end -1\n",
    "\n",
    "    i += 1"
   ]
  },
  {
   "cell_type": "code",
   "execution_count": 14,
   "metadata": {},
   "outputs": [
    {
     "data": {
      "text/plain": [
       "'-------------------------BBBBBBBBBBBBBBBBBBBBBBBBBBBBBBBBBBBBBBBBBBBBBBBBBBBBBBBBBBBB------------------BBBBBBBBBBBBBBBBBBBBBBBBBBBBBBBBBBBBBBBBBBBBBBBBBBBBBBBBBBBBBBBBBBBBBBBBB---'"
      ]
     },
     "execution_count": 14,
     "metadata": {},
     "output_type": "execute_result"
    }
   ],
   "source": [
    "beta_seq"
   ]
  },
  {
   "cell_type": "code",
   "execution_count": 15,
   "metadata": {},
   "outputs": [
    {
     "name": "stdout",
     "output_type": "stream",
     "text": [
      "--AAAAAAAAAAAAAAAAAAA----AAAAAAAAAAAAAAAAAAAAAAAAAAAAAAAAAAAAAAAAAAAAAAAAAAAAAAAAAAAA------------------AAAAAAAAAAAAAAAAAAAAAAAAAAAAAAAAAAAAAAAAAAAAAAAAAAAAAAAAAAAAAAAAAAAAAAAAA---\n",
      "-------------------------BBBBBBBBBBBBBBBBBBBBBBBBBBBBBBBBBBBBBBBBBBBBBBBBBBBBBBBBBBBB------------------BBBBBBBBBBBBBBBBBBBBBBBBBBBBBBBBBBBBBBBBBBBBBBBBBBBBBBBBBBBBBBBBBBBBBBBBB---\n"
     ]
    }
   ],
   "source": [
    "print(alpha_seq)\n",
    "print(beta_seq)"
   ]
  },
  {
   "cell_type": "code",
   "execution_count": 16,
   "metadata": {},
   "outputs": [],
   "source": [
    "#overlapping regions\n",
    "alpha_beta_seq = '-' * len(prot_seq)\n",
    "\n",
    "i=0\n",
    "\n",
    "while(i < len(prot_seq)):\n",
    "    \n",
    "    if(alpha_seq[i] == 'A' and beta_seq[i] == 'B'):\n",
    "        start = i\n",
    "        \n",
    "        while(alpha_seq[i] == 'A' and beta_seq[i] == 'B'):\n",
    "            i += 1\n",
    "        \n",
    "        end = i - 1\n",
    "\n",
    "        alpha_score, beta_score = 0, 0\n",
    "\n",
    "        for aa in range(start, end + 1):\n",
    "            alpha_score += alpha[prot_seq[aa]]\n",
    "            beta_score += beta[prot_seq[aa]]\n",
    "\n",
    "\n",
    "        alpha_beta_seq = list(alpha_beta_seq)\n",
    "\n",
    "        if alpha_score > beta_score:\n",
    "            for aa in range(start, end):\n",
    "                alpha_beta_seq[aa] = 'A'\n",
    "        else:\n",
    "            for aa in range(start, end):\n",
    "                alpha_beta_seq[aa] = 'B'\n",
    "\n",
    "        alpha_beta_seq = ''.join(alpha_beta_seq)\n",
    "\n",
    "    else:\n",
    "        if(alpha_seq[i] == 'A'):\n",
    "            alpha_beta_seq = list(alpha_beta_seq)\n",
    "            alpha_beta_seq[i] = 'A'\n",
    "            alpha_beta_seq = ''.join(alpha_beta_seq)\n",
    "\n",
    "        elif(beta_seq[i] == 'B'):\n",
    "            alpha_beta_seq = list(alpha_beta_seq)\n",
    "            alpha_beta_seq[i] = 'B'\n",
    "            alpha_beta_seq = ''.join(alpha_beta_seq)\n",
    "        i += 1"
   ]
  },
  {
   "cell_type": "code",
   "execution_count": 17,
   "metadata": {},
   "outputs": [
    {
     "data": {
      "text/plain": [
       "'--AAAAAAAAAAAAAAAAAAA----AAAAAAAAAAAAAAAAAAAAAAAAAAAAAAAAAAAAAAAAAAAAAAAAAAAAAAAAAAA-------------------BBBBBBBBBBBBBBBBBBBBBBBBBBBBBBBBBBBBBBBBBBBBBBBBBBBBBBBBBBBBBBBBBBBBBBBB----'"
      ]
     },
     "execution_count": 17,
     "metadata": {},
     "output_type": "execute_result"
    }
   ],
   "source": [
    "alpha_beta_seq"
   ]
  },
  {
   "cell_type": "code",
   "execution_count": 18,
   "metadata": {},
   "outputs": [],
   "source": [
    "# turn\n",
    "\n",
    "i=0\n",
    "\n",
    "while(i < len(prot_seq) -3):\n",
    "    consequtives = [prot_seq[i], prot_seq[i+1], prot_seq[i+2], prot_seq[i+3]]\n",
    "\n",
    "    p_bend = f_i[consequtives[0]] * f_i1[consequtives[1]] * f_i2[consequtives[2]] * f_i3[consequtives[3]]\n",
    "\n",
    "    avg_p_turn, sum_turn, sum_alpha, sum_beta = 0, 0, 0, 0\n",
    "\n",
    "    for con in consequtives:\n",
    "        sum_turn += turn[con]\n",
    "        sum_alpha += alpha[con]\n",
    "        sum_beta += beta[con]\n",
    "        avg_p_turn += turn[con] / 4\n",
    "    \n",
    "    if(p_bend > 0.000075 and\n",
    "       avg_p_turn > 1.0 and\n",
    "       sum_turn > sum_alpha and\n",
    "       sum_turn > sum_beta):\n",
    "        \n",
    "        alpha_beta_seq = list(alpha_beta_seq)\n",
    "        for aa in range(i, i+4):\n",
    "            alpha_beta_seq[aa] = 'T'\n",
    "        alpha_beta_seq = ''.join(alpha_beta_seq)\n",
    "        \n",
    "        i += 4\n",
    "    \n",
    "    else:\n",
    "        i +=1 "
   ]
  },
  {
   "cell_type": "code",
   "execution_count": 19,
   "metadata": {},
   "outputs": [
    {
     "data": {
      "text/plain": [
       "'--TTTTAAAAAAAAAATTTTTTTT-ATTTTATTTTAAAAAAAATTTTAAAAATTTTAAAAAAAAAAAAAAAAAAAAAAAAAAAATTTTTTTT-------TTTTTTTTTTTTBBBBBBBBBBBBBBBBBBBBBBBBBBBBBTTTTBTTTTBBBBBBTTTTBBBBBBBBBBTTTTBB----'"
      ]
     },
     "execution_count": 19,
     "metadata": {},
     "output_type": "execute_result"
    }
   ],
   "source": [
    "alpha_beta_seq"
   ]
  },
  {
   "cell_type": "code",
   "execution_count": 20,
   "metadata": {},
   "outputs": [],
   "source": [
    "predicted_structure = alpha_beta_seq    "
   ]
  },
  {
   "cell_type": "code",
   "execution_count": 21,
   "metadata": {},
   "outputs": [],
   "source": [
    "import json"
   ]
  },
  {
   "cell_type": "code",
   "execution_count": 22,
   "metadata": {},
   "outputs": [
    {
     "name": "stdout",
     "output_type": "stream",
     "text": [
      "Helix 30 45\n",
      "Beta strand 50 54\n",
      "Beta strand 61 68\n",
      "Beta strand 78 84\n",
      "Turn 87 91\n",
      "Beta strand 95 100\n",
      "Beta strand 111 113\n",
      "Helix 116 118\n",
      "Turn 119 121\n",
      "Helix 128 140\n",
      "Helix 150 155\n",
      "Helix 159 172\n"
     ]
    }
   ],
   "source": [
    "true_seq = '-' * len(prot_seq)\n",
    "\n",
    "with open('UBE2C_HUMAN.json', 'r') as file:\n",
    "    data = json.load(file)\n",
    "\n",
    "    for feature in data['features']:\n",
    "        type = feature['type']\n",
    "        start = feature['location']['start']['value']\n",
    "        end = feature['location']['end']['value']\n",
    "\n",
    "        print(type, start, end)\n",
    "\n",
    "        if type == 'Helix':\n",
    "            true_seq = list(true_seq)\n",
    "            for i in range(start, end+1):\n",
    "                true_seq[i] = 'A'\n",
    "            true_seq = ''.join(true_seq)\n",
    "\n",
    "        elif type == 'Beta strand':\n",
    "            true_seq = list(true_seq)\n",
    "            for i in range(start, end+1):\n",
    "                true_seq[i] = 'B'\n",
    "            true_seq = ''.join(true_seq)\n",
    "\n",
    "        elif type == 'Turn':\n",
    "            true_seq = list(true_seq)\n",
    "            for i in range(start, end+1):\n",
    "                true_seq[i] = 'T'\n",
    "            true_seq = ''.join(true_seq)"
   ]
  },
  {
   "cell_type": "code",
   "execution_count": 23,
   "metadata": {},
   "outputs": [
    {
     "data": {
      "text/plain": [
       "'------------------------------AAAAAAAAAAAAAAAA----BBBBB------BBBBBBBB---------BBBBBBB--TTTTT---BBBBBB----------BBB--AAATTT------AAAAAAAAAAAAA---------AAAAAA---AAAAAAAAAAAAAA------'"
      ]
     },
     "execution_count": 23,
     "metadata": {},
     "output_type": "execute_result"
    }
   ],
   "source": [
    "true_seq"
   ]
  },
  {
   "cell_type": "code",
   "execution_count": 24,
   "metadata": {},
   "outputs": [
    {
     "name": "stdout",
     "output_type": "stream",
     "text": [
      "--TTTTAAAAAAAAAATTTTTTTT-ATTTTATTTTAAAAAAAATTTTAAAAATTTTAAAAAAAAAAAAAAAAAAAAAAAAAAAATTTTTTTT-------TTTTTTTTTTTTBBBBBBBBBBBBBBBBBBBBBBBBBBBBBTTTTBTTTTBBBBBBTTTTBBBBBBBBBBTTTTBB----\n",
      "------------------------------AAAAAAAAAAAAAAAA----BBBBB------BBBBBBBB---------BBBBBBB--TTTTT---BBBBBB----------BBB--AAATTT------AAAAAAAAAAAAA---------AAAAAA---AAAAAAAAAAAAAA------\n"
     ]
    }
   ],
   "source": [
    "print(''.join(predicted_structure))\n",
    "print(''.join(true_seq))"
   ]
  },
  {
   "cell_type": "code",
   "execution_count": 25,
   "metadata": {},
   "outputs": [],
   "source": [
    "predicted_structure = list(predicted_structure)\n",
    "true_seq = list(true_seq)"
   ]
  },
  {
   "cell_type": "code",
   "execution_count": 26,
   "metadata": {},
   "outputs": [],
   "source": [
    "import numpy as np\n",
    "from sklearn.metrics import confusion_matrix, accuracy_score, precision_score, recall_score, f1_score\n",
    "import seaborn as sns\n",
    "import matplotlib.pyplot as plt"
   ]
  },
  {
   "cell_type": "code",
   "execution_count": 27,
   "metadata": {},
   "outputs": [],
   "source": [
    "real = np.array(true_seq)\n",
    "predicted = np.array(predicted_structure)"
   ]
  },
  {
   "cell_type": "code",
   "execution_count": 28,
   "metadata": {},
   "outputs": [
    {
     "data": {
      "text/plain": [
       "array(['-', '-', 'T', 'T', 'T', 'T', 'A', 'A', 'A', 'A', 'A', 'A', 'A',\n",
       "       'A', 'A', 'A', 'T', 'T', 'T', 'T', 'T', 'T', 'T', 'T', '-', 'A',\n",
       "       'T', 'T', 'T', 'T', 'A', 'T', 'T', 'T', 'T', 'A', 'A', 'A', 'A',\n",
       "       'A', 'A', 'A', 'A', 'T', 'T', 'T', 'T', 'A', 'A', 'A', 'A', 'A',\n",
       "       'T', 'T', 'T', 'T', 'A', 'A', 'A', 'A', 'A', 'A', 'A', 'A', 'A',\n",
       "       'A', 'A', 'A', 'A', 'A', 'A', 'A', 'A', 'A', 'A', 'A', 'A', 'A',\n",
       "       'A', 'A', 'A', 'A', 'A', 'A', 'T', 'T', 'T', 'T', 'T', 'T', 'T',\n",
       "       'T', '-', '-', '-', '-', '-', '-', '-', 'T', 'T', 'T', 'T', 'T',\n",
       "       'T', 'T', 'T', 'T', 'T', 'T', 'T', 'B', 'B', 'B', 'B', 'B', 'B',\n",
       "       'B', 'B', 'B', 'B', 'B', 'B', 'B', 'B', 'B', 'B', 'B', 'B', 'B',\n",
       "       'B', 'B', 'B', 'B', 'B', 'B', 'B', 'B', 'B', 'B', 'T', 'T', 'T',\n",
       "       'T', 'B', 'T', 'T', 'T', 'T', 'B', 'B', 'B', 'B', 'B', 'B', 'T',\n",
       "       'T', 'T', 'T', 'B', 'B', 'B', 'B', 'B', 'B', 'B', 'B', 'B', 'B',\n",
       "       'T', 'T', 'T', 'T', 'B', 'B', '-', '-', '-', '-'], dtype='<U1')"
      ]
     },
     "execution_count": 28,
     "metadata": {},
     "output_type": "execute_result"
    }
   ],
   "source": [
    "predicted"
   ]
  },
  {
   "cell_type": "code",
   "execution_count": 29,
   "metadata": {},
   "outputs": [],
   "source": [
    "cm = confusion_matrix(real, predicted)"
   ]
  },
  {
   "cell_type": "code",
   "execution_count": 30,
   "metadata": {},
   "outputs": [
    {
     "data": {
      "image/png": "[encoded data removed]",
      "text/plain": [
       "<Figure size 640x480 with 2 Axes>"
      ]
     },
     "metadata": {},
     "output_type": "display_data"
    }
   ],
   "source": [
    "sns.heatmap(cm, \n",
    "            annot=True,\n",
    "            fmt='g',\n",
    "            xticklabels=['U','H','E','T'],\n",
    "            yticklabels=['U','H','E','T'])\n",
    "plt.ylabel('Prediction',fontsize=13)\n",
    "plt.xlabel('Actual',fontsize=13)\n",
    "plt.title('Confusion Matrix',fontsize=17)\n",
    "plt.show()"
   ]
  },
  {
   "cell_type": "code",
   "execution_count": 31,
   "metadata": {},
   "outputs": [
    {
     "data": {
      "text/plain": [
       "0.15083798882681565"
      ]
     },
     "execution_count": 31,
     "metadata": {},
     "output_type": "execute_result"
    }
   ],
   "source": [
    "accuracy_score(real, predicted)"
   ]
  },
  {
   "cell_type": "code",
   "execution_count": null,
   "metadata": {},
   "outputs": [],
   "source": []
  }
 ],
 "metadata": {
  "kernelspec": {
   "display_name": "Python 3",
   "language": "python",
   "name": "python3"
  },
  "language_info": {
   "codemirror_mode": {
    "name": "ipython",
    "version": 3
   },
   "file_extension": ".py",
   "mimetype": "text/x-python",
   "name": "python",
   "nbconvert_exporter": "python",
   "pygments_lexer": "ipython3",
   "version": "3.10.7"
  }
 },
 "nbformat": 4,
 "nbformat_minor": 2
}
