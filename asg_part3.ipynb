{
 "cells": [
  {
   "cell_type": "markdown",
   "metadata": {},
   "source": [
    "# Bioinformatics Assignment 2 - Part 3\n",
    "\n",
    "Bengü Barış Balkan"
   ]
  },
  {
   "cell_type": "code",
   "execution_count": 1,
   "metadata": {},
   "outputs": [],
   "source": [
    "import pandas as pd\n",
    "import numpy as np"
   ]
  },
  {
   "cell_type": "markdown",
   "metadata": {},
   "source": [
    "I've defined state class for training."
   ]
  },
  {
   "cell_type": "code",
   "execution_count": 2,
   "metadata": {},
   "outputs": [],
   "source": [
    "class state:\n",
    "    def __init__(self, type):\n",
    "        self.structure_type = type\n",
    "        self.transitions = dict()\n",
    "        self.emissions = {'A':0, 'R':0, 'N':0, 'D':0, 'C':0,\n",
    "                          'E':0, 'Q':0, 'G':0, 'H':0, 'I':0,\n",
    "                          'L':0, 'K':0, 'M':0, 'F':0, 'P':0,\n",
    "                          'S':0, 'T':0, 'W':0, 'Y':0, 'V':0,}\n",
    "    \n",
    "    def set_transition_targets(self, targets):\n",
    "        for target in targets:\n",
    "            self.transitions[target] = 0\n",
    "    "
   ]
  },
  {
   "cell_type": "markdown",
   "metadata": {},
   "source": [
    "I've created 4 main states along with start and end states."
   ]
  },
  {
   "cell_type": "code",
   "execution_count": 3,
   "metadata": {},
   "outputs": [],
   "source": [
    "start = state('start')\n",
    "\n",
    "Helix = state('Helix')\n",
    "Strand = state('Strand')\n",
    "Turn = state('Turn')\n",
    "Unknown = state('Unknown')\n",
    "\n",
    "end = state('end')"
   ]
  },
  {
   "cell_type": "code",
   "execution_count": 4,
   "metadata": {},
   "outputs": [],
   "source": [
    "start.set_transition_targets(['Helix', 'Strand', 'Turn', 'Unknown'])\n",
    "\n",
    "Helix.set_transition_targets(['Helix', 'Strand', 'Turn', 'Unknown', 'end'])\n",
    "\n",
    "Strand.set_transition_targets(['Helix', 'Strand', 'Turn', 'Unknown', 'end'])\n",
    "\n",
    "Turn.set_transition_targets(['Helix', 'Strand', 'Turn', 'Unknown', 'end'])\n",
    "\n",
    "Unknown.set_transition_targets(['Helix', 'Strand', 'Turn', 'Unknown', 'end'])"
   ]
  },
  {
   "cell_type": "markdown",
   "metadata": {},
   "source": [
    "## Train"
   ]
  },
  {
   "cell_type": "markdown",
   "metadata": {},
   "source": [
    "To be able to train on given dataset, I've created a sequence class. So I could convert every training instance to created sequence class."
   ]
  },
  {
   "cell_type": "code",
   "execution_count": 5,
   "metadata": {},
   "outputs": [],
   "source": [
    "class sequence:\n",
    "    def __init__(self, seq):\n",
    "        self.sequence = seq\n",
    "        self.helix = []\n",
    "        self.strand = []\n",
    "        self.turn = []"
   ]
  },
  {
   "cell_type": "code",
   "execution_count": 6,
   "metadata": {},
   "outputs": [],
   "source": [
    "df = pd.read_csv('BBM411-AIN411_Assignment2_Q3_TrainingDataset.tsv', sep='\\t')"
   ]
  },
  {
   "cell_type": "code",
   "execution_count": 7,
   "metadata": {},
   "outputs": [],
   "source": [
    "df.drop(columns=['Entry', 'Entry Name'], inplace= True)"
   ]
  },
  {
   "cell_type": "code",
   "execution_count": 8,
   "metadata": {},
   "outputs": [
    {
     "data": {
      "text/plain": [
       "'HELIX 17..20; HELIX 23..25; HELIX 35..49; HELIX 51..56; HELIX 65..88; HELIX 108..126; HELIX 129..136; HELIX 140..142; HELIX 145..164; HELIX 168..171; HELIX 172..192; HELIX 195..198; HELIX 204..227; HELIX 237..260;'"
      ]
     },
     "execution_count": 8,
     "metadata": {},
     "output_type": "execute_result"
    }
   ],
   "source": [
    "df.iloc[4]['Helix']"
   ]
  },
  {
   "cell_type": "code",
   "execution_count": 9,
   "metadata": {},
   "outputs": [
    {
     "data": {
      "text/html": [
       "<div>\n",
       "<style scoped>\n",
       "    .dataframe tbody tr th:only-of-type {\n",
       "        vertical-align: middle;\n",
       "    }\n",
       "\n",
       "    .dataframe tbody tr th {\n",
       "        vertical-align: top;\n",
       "    }\n",
       "\n",
       "    .dataframe thead th {\n",
       "        text-align: right;\n",
       "    }\n",
       "</style>\n",
       "<table border=\"1\" class=\"dataframe\">\n",
       "  <thead>\n",
       "    <tr style=\"text-align: right;\">\n",
       "      <th></th>\n",
       "      <th>Sequence</th>\n",
       "      <th>Helix</th>\n",
       "      <th>Beta strand</th>\n",
       "      <th>Turn</th>\n",
       "    </tr>\n",
       "  </thead>\n",
       "  <tbody>\n",
       "    <tr>\n",
       "      <th>0</th>\n",
       "      <td>MTAEDSTAAMSSDSAAGSSAKVPEGVAGAPNEAALLALMERTGYSM...</td>\n",
       "      <td>HELIX 164..174; HELIX 204..211;</td>\n",
       "      <td>STRAND 150..156; STRAND 178..182; STRAND 185.....</td>\n",
       "      <td>TURN 189..193; TURN 212..216; TURN 237..239;</td>\n",
       "    </tr>\n",
       "    <tr>\n",
       "      <th>1</th>\n",
       "      <td>MEGSEPVAAHQGEEASCSSWGTGSTNKNLPIMSTASVEIDDALYSR...</td>\n",
       "      <td>HELIX 45..51; HELIX 53..59; HELIX 71..83; HELI...</td>\n",
       "      <td>STRAND 42..44; STRAND 63..67; STRAND 86..91; S...</td>\n",
       "      <td>TURN 483..485; TURN 506..508; TURN 550..552; T...</td>\n",
       "    </tr>\n",
       "    <tr>\n",
       "      <th>2</th>\n",
       "      <td>MTANRDAALSSHRHPGCAQRPRTPTFASSSQRRSAFGFDDGNFPGL...</td>\n",
       "      <td>HELIX 196..219; HELIX 221..226; HELIX 230..232...</td>\n",
       "      <td>STRAND 235..241; STRAND 248..255; STRAND 264.....</td>\n",
       "      <td>TURN 283..286; TURN 341..345; TURN 405..407; T...</td>\n",
       "    </tr>\n",
       "    <tr>\n",
       "      <th>3</th>\n",
       "      <td>MENFTALFGAQADPPPPPTALGFGPGKPPPPPPPPAGGGPGTAPPP...</td>\n",
       "      <td>HELIX 83..86; HELIX 90..96; HELIX 112..116; HE...</td>\n",
       "      <td>STRAND 79..81;</td>\n",
       "      <td>TURN 117..119;</td>\n",
       "    </tr>\n",
       "    <tr>\n",
       "      <th>4</th>\n",
       "      <td>MAFSDLTSRTVHLYDNWIKDADPRVEDWLLMSSPLPQTILLGFYVY...</td>\n",
       "      <td>HELIX 17..20; HELIX 23..25; HELIX 35..49; HELI...</td>\n",
       "      <td>STRAND 97..99;</td>\n",
       "      <td>TURN 89..94;</td>\n",
       "    </tr>\n",
       "    <tr>\n",
       "      <th>...</th>\n",
       "      <td>...</td>\n",
       "      <td>...</td>\n",
       "      <td>...</td>\n",
       "      <td>...</td>\n",
       "    </tr>\n",
       "    <tr>\n",
       "      <th>5385</th>\n",
       "      <td>MAETSEEVAVLVQRVVKDITNAFRRNPHIDEIGLIPCPEARYNRSP...</td>\n",
       "      <td>HELIX 7..25; HELIX 58..60; HELIX 61..76; HELIX...</td>\n",
       "      <td>STRAND 31..35; STRAND 42..44; STRAND 46..50; S...</td>\n",
       "      <td>TURN 150..153; TURN 281..283; TURN 284..286;</td>\n",
       "    </tr>\n",
       "    <tr>\n",
       "      <th>5386</th>\n",
       "      <td>MQDPNEDTEWNDILRDFGILPPKEESKDEIEEMVLRLQKEAMVKPF...</td>\n",
       "      <td>HELIX 97..99; HELIX 100..103; HELIX 123..138; ...</td>\n",
       "      <td>STRAND 112..118; STRAND 142..148; STRAND 162.....</td>\n",
       "      <td>TURN 104..106; TURN 179..183; TURN 198..200;</td>\n",
       "    </tr>\n",
       "    <tr>\n",
       "      <th>5387</th>\n",
       "      <td>MDAFQGILKFFLNQKTVIGYSFMALLTVGSERLFSVVAFKCPCSTE...</td>\n",
       "      <td>HELIX 3..7; HELIX 10..13; HELIX 15..37; HELIX ...</td>\n",
       "      <td>STRAND 43..45; STRAND 142..145; STRAND 150..15...</td>\n",
       "      <td>TURN 156..158; TURN 165..167;</td>\n",
       "    </tr>\n",
       "    <tr>\n",
       "      <th>5388</th>\n",
       "      <td>MRRTRRPRFVLMNKMDDLNLHYRFLNWRRRIREIREVRAFRYQERF...</td>\n",
       "      <td>HELIX 151..154;</td>\n",
       "      <td>STRAND 46..52; STRAND 55..58; STRAND 66..69; S...</td>\n",
       "      <td>TURN 89..91; TURN 120..122;</td>\n",
       "    </tr>\n",
       "    <tr>\n",
       "      <th>5389</th>\n",
       "      <td>MSASVKESLQLQLLEMEMLFSMFPNQGEVKLEDVNALTNIKRYLEG...</td>\n",
       "      <td>HELIX 5..22; HELIX 34..36; HELIX 38..45; HELIX...</td>\n",
       "      <td>STRAND 28..32; STRAND 55..63; STRAND 68..76; S...</td>\n",
       "      <td>TURN 64..67;</td>\n",
       "    </tr>\n",
       "  </tbody>\n",
       "</table>\n",
       "<p>5390 rows × 4 columns</p>\n",
       "</div>"
      ],
      "text/plain": [
       "                                               Sequence  \\\n",
       "0     MTAEDSTAAMSSDSAAGSSAKVPEGVAGAPNEAALLALMERTGYSM...   \n",
       "1     MEGSEPVAAHQGEEASCSSWGTGSTNKNLPIMSTASVEIDDALYSR...   \n",
       "2     MTANRDAALSSHRHPGCAQRPRTPTFASSSQRRSAFGFDDGNFPGL...   \n",
       "3     MENFTALFGAQADPPPPPTALGFGPGKPPPPPPPPAGGGPGTAPPP...   \n",
       "4     MAFSDLTSRTVHLYDNWIKDADPRVEDWLLMSSPLPQTILLGFYVY...   \n",
       "...                                                 ...   \n",
       "5385  MAETSEEVAVLVQRVVKDITNAFRRNPHIDEIGLIPCPEARYNRSP...   \n",
       "5386  MQDPNEDTEWNDILRDFGILPPKEESKDEIEEMVLRLQKEAMVKPF...   \n",
       "5387  MDAFQGILKFFLNQKTVIGYSFMALLTVGSERLFSVVAFKCPCSTE...   \n",
       "5388  MRRTRRPRFVLMNKMDDLNLHYRFLNWRRRIREIREVRAFRYQERF...   \n",
       "5389  MSASVKESLQLQLLEMEMLFSMFPNQGEVKLEDVNALTNIKRYLEG...   \n",
       "\n",
       "                                                  Helix  \\\n",
       "0                       HELIX 164..174; HELIX 204..211;   \n",
       "1     HELIX 45..51; HELIX 53..59; HELIX 71..83; HELI...   \n",
       "2     HELIX 196..219; HELIX 221..226; HELIX 230..232...   \n",
       "3     HELIX 83..86; HELIX 90..96; HELIX 112..116; HE...   \n",
       "4     HELIX 17..20; HELIX 23..25; HELIX 35..49; HELI...   \n",
       "...                                                 ...   \n",
       "5385  HELIX 7..25; HELIX 58..60; HELIX 61..76; HELIX...   \n",
       "5386  HELIX 97..99; HELIX 100..103; HELIX 123..138; ...   \n",
       "5387  HELIX 3..7; HELIX 10..13; HELIX 15..37; HELIX ...   \n",
       "5388                                    HELIX 151..154;   \n",
       "5389  HELIX 5..22; HELIX 34..36; HELIX 38..45; HELIX...   \n",
       "\n",
       "                                            Beta strand  \\\n",
       "0     STRAND 150..156; STRAND 178..182; STRAND 185.....   \n",
       "1     STRAND 42..44; STRAND 63..67; STRAND 86..91; S...   \n",
       "2     STRAND 235..241; STRAND 248..255; STRAND 264.....   \n",
       "3                                        STRAND 79..81;   \n",
       "4                                        STRAND 97..99;   \n",
       "...                                                 ...   \n",
       "5385  STRAND 31..35; STRAND 42..44; STRAND 46..50; S...   \n",
       "5386  STRAND 112..118; STRAND 142..148; STRAND 162.....   \n",
       "5387  STRAND 43..45; STRAND 142..145; STRAND 150..15...   \n",
       "5388  STRAND 46..52; STRAND 55..58; STRAND 66..69; S...   \n",
       "5389  STRAND 28..32; STRAND 55..63; STRAND 68..76; S...   \n",
       "\n",
       "                                                   Turn  \n",
       "0          TURN 189..193; TURN 212..216; TURN 237..239;  \n",
       "1     TURN 483..485; TURN 506..508; TURN 550..552; T...  \n",
       "2     TURN 283..286; TURN 341..345; TURN 405..407; T...  \n",
       "3                                        TURN 117..119;  \n",
       "4                                          TURN 89..94;  \n",
       "...                                                 ...  \n",
       "5385       TURN 150..153; TURN 281..283; TURN 284..286;  \n",
       "5386       TURN 104..106; TURN 179..183; TURN 198..200;  \n",
       "5387                      TURN 156..158; TURN 165..167;  \n",
       "5388                        TURN 89..91; TURN 120..122;  \n",
       "5389                                       TURN 64..67;  \n",
       "\n",
       "[5390 rows x 4 columns]"
      ]
     },
     "execution_count": 9,
     "metadata": {},
     "output_type": "execute_result"
    }
   ],
   "source": [
    "df"
   ]
  },
  {
   "cell_type": "code",
   "execution_count": 10,
   "metadata": {},
   "outputs": [
    {
     "data": {
      "text/plain": [
       "5390"
      ]
     },
     "execution_count": 10,
     "metadata": {},
     "output_type": "execute_result"
    }
   ],
   "source": [
    "len(df)"
   ]
  },
  {
   "cell_type": "markdown",
   "metadata": {},
   "source": [
    "I've converted every instance in the data into sequence class I've created."
   ]
  },
  {
   "cell_type": "code",
   "execution_count": 11,
   "metadata": {},
   "outputs": [],
   "source": [
    "train_data = []\n",
    "\n",
    "for i in range(len(df)):\n",
    "    sample = df.iloc[i]\n",
    "\n",
    "    seq = sequence(sample['Sequence'])\n",
    "\n",
    "    for h in sample['Helix'].split(';'):\n",
    "        if 'HELIX' in h:\n",
    "            positions = [int(x) for x in h.split()[1].split('..')]\n",
    "            for i in range(positions[0], positions[1]+1):\n",
    "                seq.helix.append(i)\n",
    "\n",
    "    for s in sample['Beta strand'].split(';'):\n",
    "        if 'STRAND' in s:\n",
    "            positions = [int(x) for x in s.split()[1].split('..')]\n",
    "            for i in range(positions[0], positions[1]+1):\n",
    "                seq.strand.append(i)\n",
    "\n",
    "    for t in sample['Turn'].split(';'):\n",
    "        if 'TURN' in t:\n",
    "            positions = [int(x) for x in t.split()[1].split('..')]\n",
    "            for i in range(positions[0], positions[1]+1):\n",
    "                seq.turn.append(i)\n",
    "\n",
    "    train_data.append(seq)"
   ]
  },
  {
   "cell_type": "code",
   "execution_count": 12,
   "metadata": {},
   "outputs": [
    {
     "data": {
      "text/plain": [
       "5390"
      ]
     },
     "execution_count": 12,
     "metadata": {},
     "output_type": "execute_result"
    }
   ],
   "source": [
    "len(train_data)"
   ]
  },
  {
   "cell_type": "markdown",
   "metadata": {},
   "source": [
    "I've created a train function to use on every sequence. It basically iterates over the given sequence and adds one to the respective state according to sequence."
   ]
  },
  {
   "cell_type": "code",
   "execution_count": 13,
   "metadata": {},
   "outputs": [],
   "source": [
    "def train(seq):\n",
    "    i = 0\n",
    "    curr = 'Start'\n",
    "\n",
    "    # updates the start state\n",
    "    if i in seq.helix:\n",
    "        start.transitions['Helix'] += 1\n",
    "        curr = 'Helix'\n",
    "        Helix.emissions[seq.sequence[i]] += 1\n",
    "\n",
    "    elif i in seq.strand:\n",
    "        start.transitions['Strand'] += 1\n",
    "        curr = 'Strand'\n",
    "        Strand.emissions[seq.sequence[i]] += 1\n",
    "\n",
    "    elif i in seq.turn:\n",
    "        start.transitions['Turn'] += 1\n",
    "        curr = 'Turn'\n",
    "        Turn.emissions[seq.sequence[i]] += 1\n",
    "\n",
    "    else:\n",
    "        start.transitions['Unknown'] += 1\n",
    "        curr = 'Unkown'\n",
    "        Unknown.emissions[seq.sequence[i]] += 1\n",
    "    \n",
    "    i += 1\n",
    "\n",
    "    # updates the four main states\n",
    "    while (i < (len(seq.sequence) -1)):\n",
    "        \n",
    "        if curr == 'Helix':\n",
    "            if i in seq.helix:\n",
    "                Helix.transitions['Helix'] += 1\n",
    "                curr = 'Helix'\n",
    "                Helix.emissions[seq.sequence[i]] += 1\n",
    "\n",
    "            elif i in seq.strand:\n",
    "                Helix.transitions['Strand'] += 1\n",
    "                curr = 'Strand'\n",
    "                Strand.emissions[seq.sequence[i]] += 1\n",
    "\n",
    "            elif i in seq.turn:\n",
    "                Helix.transitions['Turn'] += 1\n",
    "                curr = 'Turn'\n",
    "                Turn.emissions[seq.sequence[i]] += 1\n",
    "\n",
    "            else:\n",
    "                Helix.transitions['Unknown'] += 1\n",
    "                curr = 'Unkown'\n",
    "                Unknown.emissions[seq.sequence[i]] += 1\n",
    "\n",
    "\n",
    "        elif curr == 'Strand':\n",
    "            if i in seq.helix:\n",
    "                Strand.transitions['Helix'] += 1\n",
    "                curr = 'Helix'\n",
    "                Helix.emissions[seq.sequence[i]] += 1\n",
    "\n",
    "            elif i in seq.strand:\n",
    "                Strand.transitions['Strand'] += 1\n",
    "                curr = 'Strand'\n",
    "                Strand.emissions[seq.sequence[i]] += 1\n",
    "\n",
    "            elif i in seq.turn:\n",
    "                Strand.transitions['Turn'] += 1\n",
    "                curr = 'Turn'\n",
    "                Turn.emissions[seq.sequence[i]] += 1\n",
    "\n",
    "            else:\n",
    "                Strand.transitions['Unknown'] += 1\n",
    "                curr = 'Unkown'\n",
    "                Unknown.emissions[seq.sequence[i]] += 1       \n",
    "\n",
    "\n",
    "        elif curr== 'Turn':\n",
    "            if i in seq.helix:\n",
    "                Turn.transitions['Helix'] += 1\n",
    "                curr = 'Helix'\n",
    "                Helix.emissions[seq.sequence[i]] += 1\n",
    "\n",
    "            elif i in seq.strand:\n",
    "                Turn.transitions['Strand'] += 1\n",
    "                curr = 'Strand'\n",
    "                Strand.emissions[seq.sequence[i]] += 1\n",
    "\n",
    "            elif i in seq.turn:\n",
    "                Turn.transitions['Turn'] += 1\n",
    "                curr = 'Turn'\n",
    "                Turn.emissions[seq.sequence[i]] += 1\n",
    "\n",
    "            else:\n",
    "                Turn.transitions['Unknown'] += 1\n",
    "                curr = 'Unkown'\n",
    "                Unknown.emissions[seq.sequence[i]] += 1\n",
    "\n",
    "\n",
    "        elif curr == 'Unkown':\n",
    "            if i in seq.helix:\n",
    "                Unknown.transitions['Helix'] += 1\n",
    "                curr = 'Helix'\n",
    "                Helix.emissions[seq.sequence[i]] += 1\n",
    "\n",
    "            elif i in seq.strand:\n",
    "                Unknown.transitions['Strand'] += 1\n",
    "                curr = 'Strand'\n",
    "                Strand.emissions[seq.sequence[i]] += 1\n",
    "\n",
    "            elif i in seq.turn:\n",
    "                Unknown.transitions['Turn'] += 1\n",
    "                curr = 'Turn'\n",
    "                Turn.emissions[seq.sequence[i]] += 1\n",
    "\n",
    "            else:\n",
    "                Unknown.transitions['Unknown'] += 1\n",
    "                curr = 'Unkown'\n",
    "                Unknown.emissions[seq.sequence[i]] += 1\n",
    "                \n",
    "        i+=1    \n",
    "\n",
    "    # updates the four main states' end transitions\n",
    "    if i in seq.helix:\n",
    "        Helix.transitions['end'] += 1\n",
    "        curr = 'end'\n",
    "        Helix.emissions[seq.sequence[i]] += 1\n",
    "\n",
    "    elif i in seq.strand:\n",
    "        Strand.transitions['end'] += 1\n",
    "        curr = 'end'\n",
    "        Strand.emissions[seq.sequence[i]] += 1\n",
    "\n",
    "    elif i in seq.turn:\n",
    "        Turn.transitions['end'] += 1\n",
    "        curr = 'end'\n",
    "        Turn.emissions[seq.sequence[i]] += 1\n",
    "\n",
    "    else:\n",
    "        Unknown.transitions['end'] += 1\n",
    "        curr = 'end'\n",
    "        Unknown.emissions[seq.sequence[i]] += 1"
   ]
  },
  {
   "cell_type": "code",
   "execution_count": 14,
   "metadata": {},
   "outputs": [
    {
     "name": "stdout",
     "output_type": "stream",
     "text": [
      "'U'\n",
      "'U'\n",
      "'U'\n",
      "'U'\n",
      "'U'\n",
      "'U'\n",
      "'U'\n"
     ]
    }
   ],
   "source": [
    "for train_in in train_data:\n",
    "    try:\n",
    "        train(train_in)\n",
    "    \n",
    "    # some proteins contain amino acid U, which cause an exception\n",
    "    except Exception as e:\n",
    "        print(e)"
   ]
  },
  {
   "cell_type": "markdown",
   "metadata": {},
   "source": [
    "## Transition values"
   ]
  },
  {
   "cell_type": "markdown",
   "metadata": {},
   "source": [
    "Every start transition goes to the unknown state. To prevent bias, I've added pseudo-counts."
   ]
  },
  {
   "cell_type": "code",
   "execution_count": 15,
   "metadata": {},
   "outputs": [
    {
     "data": {
      "text/plain": [
       "{'Helix': 0, 'Strand': 0, 'Turn': 0, 'Unknown': 5390}"
      ]
     },
     "execution_count": 15,
     "metadata": {},
     "output_type": "execute_result"
    }
   ],
   "source": [
    "start.transitions"
   ]
  },
  {
   "cell_type": "code",
   "execution_count": 16,
   "metadata": {},
   "outputs": [],
   "source": [
    "# pseudo-counts\n",
    "for key, value in start.transitions.items():\n",
    "    start.transitions[key] = value + 1"
   ]
  },
  {
   "cell_type": "code",
   "execution_count": 17,
   "metadata": {},
   "outputs": [
    {
     "data": {
      "text/plain": [
       "{'Helix': 1, 'Strand': 1, 'Turn': 1, 'Unknown': 5391}"
      ]
     },
     "execution_count": 17,
     "metadata": {},
     "output_type": "execute_result"
    }
   ],
   "source": [
    "start.transitions"
   ]
  },
  {
   "cell_type": "code",
   "execution_count": 18,
   "metadata": {},
   "outputs": [
    {
     "name": "stdout",
     "output_type": "stream",
     "text": [
      "Helix transitions:\t{'Helix': 635943, 'Strand': 4573, 'Turn': 5463, 'Unknown': 59465, 'end': 135}\n",
      "Strand transitions:\t{'Helix': 5964, 'Strand': 359928, 'Turn': 4018, 'Unknown': 66368, 'end': 275}\n",
      "Turn transitions:\t{'Helix': 2381, 'Strand': 3970, 'Turn': 52343, 'Unknown': 14271, 'end': 56}\n",
      "Unknown transitions:\t{'Helix': 61469, 'Strand': 68265, 'Turn': 11228, 'Unknown': 2097618, 'end': 4917}\n"
     ]
    }
   ],
   "source": [
    "print(f\"Helix transitions:\\t{Helix.transitions}\")\n",
    "print(f\"Strand transitions:\\t{Strand.transitions}\")\n",
    "print(f\"Turn transitions:\\t{Turn.transitions}\")\n",
    "print(f\"Unknown transitions:\\t{Unknown.transitions}\")"
   ]
  },
  {
   "cell_type": "code",
   "execution_count": 19,
   "metadata": {},
   "outputs": [],
   "source": [
    "start_transition_sum = sum(start.transitions.values())\n",
    "for key, value in start.transitions.items():\n",
    "    start.transitions[key] = value / start_transition_sum\n",
    "\n",
    "helix_transition_sum = sum(Helix.transitions.values())\n",
    "for key, value in Helix.transitions.items():\n",
    "    Helix.transitions[key] = value / helix_transition_sum\n",
    "\n",
    "strand_transition_sum = sum(Strand.transitions.values())\n",
    "for key, value in Strand.transitions.items():\n",
    "    Strand.transitions[key] = value / strand_transition_sum\n",
    "\n",
    "turn_transition_sum = sum(Turn.transitions.values())\n",
    "for key, value in Turn.transitions.items():\n",
    "    Turn.transitions[key] = value / turn_transition_sum\n",
    "\n",
    "unknown_transition_sum = sum(Unknown.transitions.values())\n",
    "for key, value in Unknown.transitions.items():\n",
    "    Unknown.transitions[key] = value / unknown_transition_sum"
   ]
  },
  {
   "cell_type": "code",
   "execution_count": 20,
   "metadata": {},
   "outputs": [
    {
     "name": "stdout",
     "output_type": "stream",
     "text": [
      "start transitions: \n",
      "{'Helix': 0.0001853911753800519, 'Strand': 0.0001853911753800519, 'Turn': 0.0001853911753800519, 'Unknown': 0.9994438264738599}\n",
      "\n",
      "Helix transitions: \n",
      "{'Helix': 0.9013065865055507, 'Strand': 0.006481201963210356, 'Turn': 0.007742577372625886, 'Unknown': 0.08427830193358929, 'end': 0.00019133222502370394}\n",
      "\n",
      "Strand transitions: \n",
      "{'Helix': 0.013661571447224049, 'Strand': 0.8244772112435375, 'Turn': 0.009203922547777703, 'Unknown': 0.15202735979365622, 'end': 0.0006299349678045965}\n",
      "\n",
      "Turn transitions: \n",
      "{'Helix': 0.03260705824351899, 'Strand': 0.05436792155681242, 'Turn': 0.7168211884252476, 'Unknown': 0.19543692910258692, 'end': 0.0007669026718341299}\n",
      "\n",
      "Unknown transitions: \n",
      "{'Helix': 0.027398744014366858, 'Strand': 0.030427943518533788, 'Turn': 0.0050046868794564915, 'Unknown': 0.9349769578475032, 'end': 0.0021916677401396124}\n",
      "\n"
     ]
    }
   ],
   "source": [
    "print(f\"start transitions: \\n{start.transitions}\\n\")\n",
    "print(f\"Helix transitions: \\n{Helix.transitions}\\n\")\n",
    "print(f\"Strand transitions: \\n{Strand.transitions}\\n\")\n",
    "print(f\"Turn transitions: \\n{Turn.transitions}\\n\")\n",
    "print(f\"Unknown transitions: \\n{Unknown.transitions}\\n\")"
   ]
  },
  {
   "cell_type": "markdown",
   "metadata": {},
   "source": [
    "I've first tried initial transition rates but the prediction became all unknown. So I've changed transition rates."
   ]
  },
  {
   "cell_type": "code",
   "execution_count": 21,
   "metadata": {},
   "outputs": [],
   "source": [
    "start.transitions['Helix']  = 0.25\n",
    "start.transitions['Strand'] = 0.25\n",
    "start.transitions['Turn']   = 0.25\n",
    "start.transitions['Unknown']= 0.25"
   ]
  },
  {
   "cell_type": "code",
   "execution_count": 22,
   "metadata": {},
   "outputs": [],
   "source": [
    "Helix.transitions['Helix']  = 0.40\n",
    "Helix.transitions['Strand'] = 0.20\n",
    "Helix.transitions['Turn']   = 0.20\n",
    "Helix.transitions['Unknown']= 0.20"
   ]
  },
  {
   "cell_type": "code",
   "execution_count": 23,
   "metadata": {},
   "outputs": [],
   "source": [
    "Strand.transitions['Helix']  = 0.20\n",
    "Strand.transitions['Strand'] = 0.40\n",
    "Strand.transitions['Turn']   = 0.20\n",
    "Strand.transitions['Unknown']= 0.20"
   ]
  },
  {
   "cell_type": "code",
   "execution_count": 24,
   "metadata": {},
   "outputs": [],
   "source": [
    "Turn.transitions['Helix']  = 0.20\n",
    "Turn.transitions['Strand'] = 0.20\n",
    "Turn.transitions['Turn']   = 0.40\n",
    "Turn.transitions['Unknown']= 0.20"
   ]
  },
  {
   "cell_type": "code",
   "execution_count": 25,
   "metadata": {},
   "outputs": [],
   "source": [
    "Unknown.transitions['Helix']  = 0.20\n",
    "Unknown.transitions['Strand'] = 0.20\n",
    "Unknown.transitions['Turn']   = 0.20\n",
    "Unknown.transitions['Unknown']= 0.40"
   ]
  },
  {
   "cell_type": "code",
   "execution_count": 26,
   "metadata": {},
   "outputs": [
    {
     "name": "stdout",
     "output_type": "stream",
     "text": [
      "Helix transitions: \n",
      "{'Helix': 0.4, 'Strand': 0.2, 'Turn': 0.2, 'Unknown': 0.2, 'end': 0.00019133222502370394}\n",
      "\n",
      "Strand transitions: \n",
      "{'Helix': 0.2, 'Strand': 0.4, 'Turn': 0.2, 'Unknown': 0.2, 'end': 0.0006299349678045965}\n",
      "\n",
      "Turn transitions: \n",
      "{'Helix': 0.2, 'Strand': 0.2, 'Turn': 0.4, 'Unknown': 0.2, 'end': 0.0007669026718341299}\n",
      "\n",
      "Unknown transitions: \n",
      "{'Helix': 0.2, 'Strand': 0.2, 'Turn': 0.2, 'Unknown': 0.4, 'end': 0.0021916677401396124}\n",
      "\n"
     ]
    }
   ],
   "source": [
    "print(f\"Helix transitions: \\n{Helix.transitions}\\n\")\n",
    "print(f\"Strand transitions: \\n{Strand.transitions}\\n\")\n",
    "print(f\"Turn transitions: \\n{Turn.transitions}\\n\")\n",
    "print(f\"Unknown transitions: \\n{Unknown.transitions}\\n\")"
   ]
  },
  {
   "cell_type": "markdown",
   "metadata": {},
   "source": [
    "## Emission values"
   ]
  },
  {
   "cell_type": "code",
   "execution_count": 27,
   "metadata": {},
   "outputs": [
    {
     "name": "stdout",
     "output_type": "stream",
     "text": [
      "Helix emissions: \n",
      "{'A': 60752, 'R': 42002, 'N': 24445, 'D': 30238, 'C': 14735, 'E': 56292, 'Q': 37470, 'G': 26954, 'H': 17844, 'I': 42646, 'L': 96187, 'K': 45309, 'M': 21091, 'F': 34436, 'P': 7250, 'S': 38755, 'T': 29318, 'W': 10264, 'Y': 24714, 'V': 45190}\n",
      "\n",
      "Strand emissions: \n",
      "{'A': 23394, 'R': 20290, 'N': 15641, 'D': 20145, 'C': 12891, 'E': 22667, 'Q': 14350, 'G': 27353, 'H': 11577, 'I': 30690, 'L': 44154, 'K': 21782, 'M': 8783, 'F': 23162, 'P': 15300, 'S': 27561, 'T': 26272, 'W': 7264, 'Y': 18786, 'V': 44945}\n",
      "\n",
      "Turn emissions: \n",
      "{'A': 3960, 'R': 4200, 'N': 4149, 'D': 4659, 'C': 2300, 'E': 5063, 'Q': 3298, 'G': 8505, 'H': 2175, 'I': 2516, 'L': 5601, 'K': 4994, 'M': 1450, 'F': 3137, 'P': 1226, 'S': 4982, 'T': 4296, 'W': 953, 'Y': 2514, 'V': 3130}\n",
      "\n",
      "Unknown emissions: \n",
      "{'A': 148653, 'R': 124103, 'N': 89008, 'D': 122521, 'C': 43647, 'E': 164565, 'Q': 105896, 'G': 163114, 'H': 54622, 'I': 84220, 'L': 187884, 'K': 134331, 'M': 45057, 'F': 66747, 'P': 186586, 'S': 203850, 'T': 126924, 'W': 23289, 'Y': 51242, 'V': 121767}\n",
      "\n"
     ]
    }
   ],
   "source": [
    "print(f\"Helix emissions: \\n{Helix.emissions}\\n\")\n",
    "print(f\"Strand emissions: \\n{Strand.emissions}\\n\")\n",
    "print(f\"Turn emissions: \\n{Turn.emissions}\\n\")\n",
    "print(f\"Unknown emissions: \\n{Unknown.emissions}\\n\")"
   ]
  },
  {
   "cell_type": "code",
   "execution_count": 28,
   "metadata": {},
   "outputs": [],
   "source": [
    "helix_emission_sum = sum(Helix.emissions.values())\n",
    "for key, value in Helix.emissions.items():\n",
    "    Helix.emissions[key] = value / helix_emission_sum\n",
    "\n",
    "strand_emission_sum = sum(Strand.emissions.values())\n",
    "for key, value in Strand.emissions.items():\n",
    "    Strand.emissions[key] = value / strand_emission_sum\n",
    "\n",
    "turn_emission_sum = sum(Turn.emissions.values())\n",
    "for key, value in Turn.emissions.items():\n",
    "    Turn.emissions[key] = value / turn_emission_sum\n",
    "\n",
    "unknown_emission_sum = sum(Unknown.emissions.values())\n",
    "for key, value in Unknown.emissions.items():\n",
    "    Unknown.emissions[key] = value / unknown_emission_sum"
   ]
  },
  {
   "cell_type": "code",
   "execution_count": 29,
   "metadata": {},
   "outputs": [
    {
     "name": "stdout",
     "output_type": "stream",
     "text": [
      "Helix emissions: \n",
      "{'A': 0.08606415712318598, 'R': 0.0595020201390581, 'N': 0.03462994339077366, 'D': 0.04283658123338981, 'C': 0.020874298051259964, 'E': 0.07974591013922809, 'Q': 0.05308177454908116, 'G': 0.03818431148107643, 'H': 0.025278654525054824, 'I': 0.06041434100400628, 'L': 0.13626305440492315, 'K': 0.06418687277940535, 'M': 0.029878508327052862, 'F': 0.04878366662322282, 'P': 0.010270692967196115, 'S': 0.05490216633706006, 'T': 0.04153326571203527, 'W': 0.014540467946938059, 'Y': 0.035011021516039284, 'V': 0.06401829175001275}\n",
      "\n",
      "Strand emissions: \n",
      "{'A': 0.05353232328086278, 'R': 0.046429462228293826, 'N': 0.03579118869949452, 'D': 0.04609765976288709, 'C': 0.029498383321090966, 'E': 0.05186873436809937, 'Q': 0.03283700261094216, 'G': 0.06259167473289902, 'H': 0.026491566496646506, 'I': 0.07022770802298361, 'L': 0.10103728315564739, 'K': 0.049843595182685864, 'M': 0.0200980762321885, 'F': 0.05300143933621201, 'P': 0.03501088083257248, 'S': 0.0630676396487928, 'T': 0.060118030145970204, 'W': 0.016622159370444867, 'Y': 0.0429878697595233, 'V': 0.10284732281176275}\n",
      "\n",
      "Turn emissions: \n",
      "{'A': 0.054166438693439845, 'R': 0.057449253159708925, 'N': 0.05675165508562675, 'D': 0.06372763582644854, 'C': 0.031460305301745366, 'E': 0.06925370684466817, 'Q': 0.04511134212398096, 'G': 0.11633473764841057, 'H': 0.02975050610056355, 'I': 0.03441483832138754, 'L': 0.07661268260655468, 'K': 0.0683098976856158, 'M': 0.019833670733709032, 'F': 0.042909120752858784, 'P': 0.016769710565191224, 'S': 0.06814575696230235, 'T': 0.058762378946216554, 'W': 0.013035509109810144, 'Y': 0.03438748153416863, 'V': 0.0428133719975926}\n",
      "\n",
      "Unknown emissions: \n",
      "{'A': 0.06612601455677114, 'R': 0.0552053223583713, 'N': 0.039593848113856335, 'D': 0.05450159384277584, 'C': 0.019415700708087895, 'E': 0.0732042245063002, 'Q': 0.047106216743044785, 'G': 0.07255876933807705, 'H': 0.024297761680692306, 'I': 0.03746397950913379, 'L': 0.08357732517328537, 'K': 0.05975509180053967, 'M': 0.020042917653087643, 'F': 0.02969138257297736, 'P': 0.08299992971611539, 'S': 0.09067955619730377, 'T': 0.056460201083083555, 'W': 0.010359755625602195, 'Y': 0.02279422035154398, 'V': 0.054166188469350444}\n",
      "\n"
     ]
    }
   ],
   "source": [
    "print(f\"Helix emissions: \\n{Helix.emissions}\\n\")\n",
    "print(f\"Strand emissions: \\n{Strand.emissions}\\n\")\n",
    "print(f\"Turn emissions: \\n{Turn.emissions}\\n\")\n",
    "print(f\"Unknown emissions: \\n{Unknown.emissions}\\n\")"
   ]
  },
  {
   "cell_type": "markdown",
   "metadata": {},
   "source": [
    "# Viterbi algorithm"
   ]
  },
  {
   "cell_type": "markdown",
   "metadata": {},
   "source": [
    "I've implemented viterbi algorithm to see the most probable path and its probability"
   ]
  },
  {
   "cell_type": "code",
   "execution_count": 30,
   "metadata": {},
   "outputs": [],
   "source": [
    "prot_seq = 'MASQNRDPAATSVAAARKGAEPSGGAARGPVGKRLQQELMTLMMSGDKGISAFPESDNLFKWVGTIHGAAGTVYEDLRYKLSLEFPSGYPYNAPTVKFLTPCYHPNVDTQGNICLDILKEKWSALYDVRTILLSIQSLLGEPNIDSPLNTHAAELWKNPTAFKKYLQETYSKQVTSQEP'"
   ]
  },
  {
   "cell_type": "code",
   "execution_count": 31,
   "metadata": {},
   "outputs": [
    {
     "name": "stdout",
     "output_type": "stream",
     "text": [
      "179\n"
     ]
    }
   ],
   "source": [
    "print(len(prot_seq))"
   ]
  },
  {
   "cell_type": "markdown",
   "metadata": {},
   "source": [
    "Here is the viterbi implementation. I've used a 4*179 dp array. I've created every row in a different list to have better understanding on the algorithm. \n",
    "\n",
    "I've initialized the first values in every row since they require start state's transition values, then proceed with the algoritm."
   ]
  },
  {
   "cell_type": "code",
   "execution_count": 32,
   "metadata": {},
   "outputs": [],
   "source": [
    "helix_prob_list = []\n",
    "strand_prob_list = []\n",
    "turn_prob_list = []\n",
    "unk_prob_list = []"
   ]
  },
  {
   "cell_type": "code",
   "execution_count": 33,
   "metadata": {},
   "outputs": [],
   "source": [
    "helix_prob_list.append(np.log2(start.transitions['Helix']) + np.log2(Helix.emissions[prot_seq[0]]))\n",
    "strand_prob_list.append(np.log2(start.transitions['Strand']) + np.log2(Strand.emissions[prot_seq[0]]))\n",
    "turn_prob_list.append(np.log2(start.transitions['Turn']) + np.log2(Turn.emissions[prot_seq[0]]))\n",
    "unk_prob_list.append(np.log2(start.transitions['Unknown']) + np.log2(Unknown.emissions[prot_seq[0]]))"
   ]
  },
  {
   "cell_type": "code",
   "execution_count": 34,
   "metadata": {},
   "outputs": [
    {
     "name": "stdout",
     "output_type": "stream",
     "text": [
      "[-7.064748065840419]\n",
      "[-7.636798775092261]\n",
      "[-7.655904479468149]\n",
      "[-7.6407636524365925]\n"
     ]
    }
   ],
   "source": [
    "print(helix_prob_list)\n",
    "print(strand_prob_list)\n",
    "print(turn_prob_list)\n",
    "print(unk_prob_list)"
   ]
  },
  {
   "cell_type": "code",
   "execution_count": 35,
   "metadata": {},
   "outputs": [],
   "source": [
    "for i in range(1, len(prot_seq)):\n",
    "    helix_prob_list.append(max(\n",
    "        helix_prob_list[i-1]    + np.log2(Helix.transitions['Helix'])   + np.log2(Helix.emissions[prot_seq[i]]),\n",
    "        strand_prob_list[i-1]   + np.log2(Strand.transitions['Helix'])  + np.log2(Helix.emissions[prot_seq[i]]),\n",
    "        turn_prob_list[i-1]     + np.log2(Turn.transitions['Helix'])    + np.log2(Helix.emissions[prot_seq[i]]),\n",
    "        unk_prob_list[i-1]      + np.log2(Unknown.transitions['Helix']) + np.log2(Helix.emissions[prot_seq[i]])\n",
    "    ))\n",
    "\n",
    "    strand_prob_list.append(max(\n",
    "        helix_prob_list[i-1]    + np.log2(Helix.transitions['Strand'])   + np.log2(Strand.emissions[prot_seq[i]]),\n",
    "        strand_prob_list[i-1]   + np.log2(Strand.transitions['Strand'])  + np.log2(Strand.emissions[prot_seq[i]]),\n",
    "        turn_prob_list[i-1]     + np.log2(Turn.transitions['Strand'])    + np.log2(Strand.emissions[prot_seq[i]]),\n",
    "        unk_prob_list[i-1]      + np.log2(Unknown.transitions['Strand']) + np.log2(Strand.emissions[prot_seq[i]])\n",
    "    ))\n",
    "\n",
    "    turn_prob_list.append(max(\n",
    "        helix_prob_list[i-1]    + np.log2(Helix.transitions['Turn'])   + np.log2(Turn.emissions[prot_seq[i]]),\n",
    "        strand_prob_list[i-1]   + np.log2(Strand.transitions['Turn'])  + np.log2(Turn.emissions[prot_seq[i]]),\n",
    "        turn_prob_list[i-1]     + np.log2(Turn.transitions['Turn'])    + np.log2(Turn.emissions[prot_seq[i]]),\n",
    "        unk_prob_list[i-1]      + np.log2(Unknown.transitions['Turn']) + np.log2(Turn.emissions[prot_seq[i]])\n",
    "    ))\n",
    "\n",
    "    unk_prob_list.append(max(\n",
    "        helix_prob_list[i-1]    + np.log2(Helix.transitions['Unknown'])   + np.log2(Unknown.emissions[prot_seq[i]]),\n",
    "        strand_prob_list[i-1]   + np.log2(Strand.transitions['Unknown'])  + np.log2(Unknown.emissions[prot_seq[i]]),\n",
    "        turn_prob_list[i-1]     + np.log2(Turn.transitions['Unknown'])    + np.log2(Unknown.emissions[prot_seq[i]]),\n",
    "        unk_prob_list[i-1]      + np.log2(Unknown.transitions['Unknown']) + np.log2(Unknown.emissions[prot_seq[i]])\n",
    "    ))\n",
    "\n"
   ]
  },
  {
   "cell_type": "code",
   "execution_count": 36,
   "metadata": {},
   "outputs": [
    {
     "name": "stdout",
     "output_type": "stream",
     "text": [
      "[-7.064748065840419, -11.925119822601179, -17.434041030854793, -22.991608714018163, -29.16537296950251, -34.55821860431332, -40.425159545078856, -48.352410305669046, -51.170220461211436, -56.03059221797219, -61.942109188990365, -67.45103039724398, -72.33183844499375, -77.19221020175452, -82.05258195851529, -86.91295371527606, -92.30579935008687, -97.58930536096118, -103.62210963556899, -108.48248139232976, -113.45285514649248, -121.38010590708268, -125.0449819864167, -130.35387200715618, -135.46050630514853, -139.03258796672327, -143.89295972348404, -149.28580535829485, -155.31860963290268, -163.02530744454577, -165.82305448522476, -171.85585875983259, -176.45428639916517, -181.84713203397598, -186.04459377277445, -191.60216145593782, -197.1597291391012, -202.1301028932639, -206.32756463206238, -212.71424079279018, -218.62575776380837, -222.82321950260683, -229.20989566333463, -235.59657182406244, -241.10549303231605, -247.13829730692387, -253.00523824768942, -257.79667767081014, -263.7396655878733, -267.50332878311843, -273.0122499913721, -277.8726217481328, -283.55200783635945, -291.47925859694965, -295.4350557603904, -300.94397696864405, -306.210487279356, -312.03679645810524, -316.0410019368143, -321.72038802504096, -327.00389403591527, -334.42960462120544, -339.71690472502695, -345.7497089996348, -351.66122597065294, -356.5853592393224, -362.9960745488254, -368.961265344961, -373.04702601032125, -377.907397767082, -383.9402020416898, -389.58051555186745, -394.3671901659432, -400.52516529473365, -405.4724030348632, -411.3393439756287, -415.5368057144272, -420.92965134923804, -427.0876264780285, -432.3711324889028, -436.5685942277013, -442.0775154359549, -446.2749771747534, -451.24535092891614, -456.9247370171428, -464.851987777733, -469.34633239526465, -474.6552224160041, -479.88702756817906, -487.81427832876926, -491.5768179582839, -497.75058221376827, -502.610953970529, -510.5382047311192, -514.2412245183272, -519.0855576688353, -524.3690636797096, -530.0484497679362, -534.2459115067346, -540.1574284777528, -548.0846792383429, -553.2970654030353, -559.2472343771806, -565.5789785205329, -573.4386158026509, -577.5978034674133, -582.6918473111452, -588.2658186837684, -594.0714854873816, -599.0955227461454, -605.1283270207532, -610.4952669384362, -615.1535177314839, -622.0575743318524, -626.2550360706508, -632.1219770114163, -637.4928702425623, -641.6903319813607, -646.973837992235, -651.9442117463976, -657.2277177572719, -664.6534283425619, -670.1623495508155, -675.0227213075763, -679.2201830463747, -685.3781581751651, -691.2450991159307, -696.532399219752, -701.9252448545628, -707.836761825581, -713.2076550567269, -717.4051167955254, -721.6025785343238, -727.1114997425774, -732.4823929737233, -738.0399606568867, -743.5488818651403, -747.7463436039387, -751.9438053427372, -757.9766096173449, -762.9469833715076, -770.8742341320977, -775.2307354440594, -780.4083724151159, -786.2753133558814, -791.784234564135, -799.3295028935677, -800.5123880416442, -806.6861522971285, -812.5976692681467, -819.2255338757528, -824.0859056325136, -828.9462773892743, -833.916651143437, -838.1141128822354, -845.5398234675255, -850.8233294783997, -856.9970937338841, -864.9243444944742, -869.6280286146809, -874.0454334181285, -879.7248195063551, -885.0083255172293, -890.2918315281036, -896.449806656894, -900.6472683956924, -906.2048360788558, -911.1752098330185, -917.0867268040366, -923.2447019328271, -928.7536231410807, -934.0371291519549, -939.5946968351183, -944.8819969389397, -950.7935139099578, -956.3024351182114, -961.8600028013748, -966.8303765555374, -974.7576273161276]\n",
      "[-7.636798775092261, -13.182172793369979, -18.234004166930426, -24.484466008876524, -30.11778853924036, -35.86853225299285, -41.31930937767387, -47.27103838560745, -51.8552227227284, -57.095789055044065, -62.16896791570072, -67.47785226002996, -71.64789029096322, -77.19326430924094, -82.73863832751867, -88.2840123457964, -93.66369742902856, -98.95417550207787, -103.90911886738391, -109.45449288566164, -115.04436740367208, -120.61083607242162, -124.84494512249233, -129.6408812389711, -134.74751553696342, -139.71759022824023, -145.24597527253107, -150.64370343723652, -155.60561886471757, -161.25603760988471, -165.13910633119423, -170.45891983761695, -176.10729598960796, -181.85803970336045, -186.48700814175706, -192.73746998370316, -198.85262329788392, -203.7506482563589, -207.75907133166052, -214.28629150204202, -219.09222733940888, -223.7211957778055, -230.67992264778513, -237.16862253331428, -241.90545616839168, -247.2252696748144, -252.98039728914705, -258.1615478119268, -263.0266748196882, -267.28617948501517, -272.59506382934444, -278.14043784762214, -283.7001905934571, -289.85817151938625, -295.449090636644, -300.75797498097324, -306.10463711195104, -311.9892120278431, -316.47250863641244, -322.0322613822474, -327.6806375342384, -334.913314005344, -339.51666595513495, -344.8364794615577, -350.21446600817643, -355.3682099412191, -361.9284610703532, -367.24827457677594, -372.79364859505364, -378.33902261333134, -383.6588361197541, -389.0368226663728, -393.6401746161638, -399.50202928070047, -405.0929483979582, -410.85403917131873, -415.48300760971534, -421.23375132346786, -427.09560598800454, -432.7439821399955, -437.37295057839214, -442.6818349227214, -447.310803361118, -452.86589629201114, -457.8051036747511, -463.96308460068025, -469.1462955313403, -473.942231647819, -479.5909071039253, -485.74888802985447, -491.28069749403016, -497.4068773192524, -502.9522513375301, -509.11023226345924, -513.7076940939277, -518.3110460437185, -523.9594221957095, -529.5191749415444, -534.148143379941, -539.5261299265596, -545.6841108524887, -552.0892592483901, -557.9511139129268, -564.5113650420608, -570.6693459679899, -576.795525793212, -581.3988777430029, -587.1599685163634, -592.5379550629821, -598.7884169049281, -604.1082304113507, -610.2344102365729, -614.9363684333806, -621.341516829282, -625.9704852676786, -631.731576041039, -636.8853199740817, -641.5142884124782, -647.1626645644692, -652.7535836817268, -658.4019598337178, -665.4603942283774, -670.7692785727065, -676.3146525909842, -680.6516897459728, -686.0820377109113, -691.8431284842718, -696.4464804340627, -702.1972241478151, -707.5752106944337, -712.7289546274764, -717.3579230658729, -721.9868915042695, -727.2957758485986, -732.4495197816412, -738.6999816235873, -744.0088659679164, -748.637834406313, -753.2668028447096, -758.2636188491598, -763.8545379664174, -769.7012534977212, -775.1831510137972, -780.1912231170126, -785.952313890373, -791.2611982347022, -797.4191791606313, -800.9438947412423, -807.0700745664644, -812.4480611130831, -819.0083122422171, -824.5536862604948, -830.0990602787725, -835.4236696617614, -839.5456195818335, -846.3467893533409, -851.9951655053319, -857.9495093036219, -864.107490229551, -869.0944981902815, -874.6398722085592, -879.9853807395183, -885.6337568915093, -891.2821330435003, -897.1439877080369, -901.7729561464334, -907.8977302376385, -912.7957551961134, -917.5531963796371, -923.4150510441738, -928.7239353885029, -934.3723115404939, -940.62277338244, -945.1980487849091, -950.5760353315278, -955.884919675857, -962.135381517803, -967.7263006350606, -973.8842815609897]\n",
      "[-7.655904479468149, -13.184289523758986, -18.12228027561815, -23.91457435143849, -29.375696168824646, -34.819192315528966, -40.113057459678316, -47.33298395524534, -51.838233748741516, -57.07880008105718, -62.201872850354405, -67.39903330337138, -72.9122611586101, -78.10131509435836, -83.34188142667404, -88.58096700280613, -93.3564498619804, -98.49948900341647, -102.92506324212354, -108.45344828641439, -113.6273412767624, -120.84726777232943, -124.73322123118005, -128.74664197125543, -133.1722162099625, -138.70060125425334, -144.22898629854419, -149.6724824452485, -154.09805668395558, -161.3179831795226, -166.4034771988411, -170.48972032900562, -175.68340998233523, -181.12690612903955, -186.15510717535, -191.94740125117033, -197.73969532699067, -202.91358831733868, -207.94178936364915, -214.3053972064179, -219.1251322740626, -224.15333332037306, -230.80105207696235, -237.18772823769015, -241.7937322770794, -246.21930651578649, -251.51317165993584, -256.70686131326545, -261.1324355519725, -267.315189104351, -272.512349557368, -278.04073460165887, -283.90523454707306, -291.1251610426401, -295.6385749965757, -300.7556998372222, -305.6374114827399, -311.09853330012606, -316.12673434643654, -321.99123429185073, -327.18492394518034, -334.7682613005282, -340.635984117966, -344.942240193842, -350.3531316751144, -356.53588522749294, -362.76108001485346, -367.1866542535605, -372.7150392978514, -378.24342434214225, -382.6689985808493, -388.0798900621217, -393.94761287955953, -400.1315137043968, -405.3054066947448, -410.5992718388942, -415.62747288520467, -421.070969031909, -427.25486985674627, -432.4485595100759, -437.47676055638635, -442.67392100940333, -447.7021220557138, -452.4488701651014, -458.10985087433033, -465.1446635127098, -469.034571640028, -473.0479923801033, -479.2318932049406, -486.45181970050766, -491.60274365433077, -497.06386547171695, -502.59225051600777, -509.8121770115748, -513.7405990285813, -519.6083218460191, -524.5047356970481, -530.3692356424623, -535.3974366887727, -540.5590348612133, -547.7460564221266, -552.7052604160929, -558.8891612409301, -565.2820313145644, -572.5019578101313, -576.8851610293151, -582.7528838467529, -587.6927428871522, -593.1036343684245, -598.8959284442449, -603.3215026829519, -608.782624500338, -614.9653780527165, -621.2776296661425, -626.3058307124529, -631.5996958566022, -637.7824494089807, -642.8106504552911, -647.7079780658078, -652.8818710561557, -658.0755607094852, -665.658898064833, -670.8505887955789, -676.3789738398697, -681.0509223538867, -686.4040838712119, -691.6720233193145, -697.5397461367522, -702.889976580767, -708.3008680620393, -714.4836216144178, -718.7571556737868, -723.3861241121833, -727.7997389873408, -733.9824925397193, -739.2418138574616, -744.2371211099037, -749.2653221562141, -753.7745446502491, -757.3693795814442, -762.543272571792, -769.763199067359, -774.5180930059612, -780.7008465583397, -785.994711702489, -791.191872155506, -798.4117986510729, -801.3431273491561, -806.6787208178175, -812.0896122990898, -818.4824823727241, -824.0108674170149, -829.5392524613056, -834.7131454516535, -839.741346497964, -846.6974502375832, -851.733513120855, -857.1946349382412, -864.4145614338081, -869.1274031249351, -874.6557881692258, -880.2901279390976, -885.4838175924272, -890.6775072457567, -896.8614080705939, -901.8896091169044, -907.4395624715128, -912.3787290692037, -917.5861013142908, -923.770002139128, -928.967162592145, -934.1608522454745, -939.9531463212949, -945.8208691387326, -951.2317606200049, -956.4289210730219, -962.2212151488422, -967.3951081391901, -974.6150346347571]\n",
      "[-7.6407636524365925, -12.881329984752261, -17.666336939137544, -23.396203754778732, -29.376711750173673, -34.87768867055204, -40.39717453458243, -45.30984870445068, -50.550415036766346, -55.79098136908201, -61.259531386786975, -66.04453834117226, -71.57293005006751, -76.81349638238319, -82.05406271469887, -87.29462904701455, -92.79560596739293, -98.1823286000093, -103.28896289800163, -108.52952923031731, -113.62338660829482, -118.53606077816308, -123.32106773254837, -128.4277020305407, -133.53433632853302, -138.77490266084868, -144.01546899316435, -149.51644591354273, -154.62308021153504, -159.53575438140328, -165.06414609029855, -170.17078038829086, -175.55750302090723, -181.0584799412856, -185.96115263887134, -191.69101945451254, -197.42088627015374, -202.51474364813126, -207.417416345717, -214.29025637938634, -219.18279081049516, -224.0854635080809, -230.7859112499308, -237.1725874106586, -241.38157877844773, -246.48821307644005, -252.00769894047045, -257.39442157308685, -262.5010558710792, -268.1927156825646, -272.97772263694986, -278.21828896926553, -284.6140289802481, -289.4646820062277, -294.55853938420523, -299.3435463385905, -304.8630322026209, -310.84354019801583, -315.74621289560156, -322.14195290658415, -327.52867553920055, -335.4434698519086, -340.9579963301007, -345.6233002531273, -351.09185027083225, -357.15213040142436, -363.0531708075604, -368.03509536834554, -373.2756617006612, -378.51622803297687, -383.6228623309692, -389.09141234867417, -394.60828177101695, -401.38539799125357, -405.595886658678, -411.1153725227084, -416.01804522029414, -421.5190221406725, -428.29613836090914, -433.4743491106449, -438.2738051864885, -442.35360118208655, -447.2562738796723, -452.3501312576498, -458.64109093989873, -462.837411187011, -467.6224181413963, -472.7290524393886, -479.50616865962525, -484.4188428294935, -491.1959590497301, -497.17646704512504, -502.4170333774407, -507.32970754730894, -512.798257565014, -518.3266492739092, -523.7133719065255, -530.109111917508, -535.0117846150937, -540.4803346327986, -545.3930088026668, -552.4015693126171, -559.1786855328537, -565.636074779268, -570.424039211929, -576.4045472073238, -581.9329389162191, -587.4524247802494, -592.9209747979544, -598.6508416135955, -603.7574759115878, -609.7379839069827, -615.7982640375747, -622.8068245475249, -627.1803023637282, -632.4899711317089, -638.5502512623009, -642.7879926716673, -647.9010110450945, -652.9948684230719, -658.3309343790139, -666.14251206998, -670.4384352969472, -675.6790016292629, -680.5816743268485, -686.9972992666113, -691.8976440391955, -697.4260357480907, -702.927012668469, -708.3937948722678, -714.4540750028598, -718.631627325062, -723.2605957634586, -727.3875854887091, -733.4478656193012, -739.1777324349423, -743.824967611272, -748.7276403088576, -753.6303130064433, -758.0504396407295, -763.1442970187069, -768.0569711885751, -774.0374791839699, -780.0977593145619, -785.6172451785923, -790.4022521329775, -795.3149263028457, -800.2175990004314, -806.1981069958263, -811.6666570135312, -818.3516178798725, -823.5921842121882, -828.8327505445038, -833.9266079224813, -838.8292806200669, -846.744074932775, -851.9265461001418, -857.8038374737946, -862.7165116436628, -868.1850616613677, -873.4256279936834, -879.8213680046659, -885.2080906372822, -890.5948132698985, -897.3719294901351, -902.2746021877208, -907.3771352113336, -912.2986934568332, -917.6437598507234, -924.42087607096, -929.0297088872123, -934.4164315198286, -940.1462983354697, -945.674690044365, -951.1432400620699, -955.9282470164552, -961.6581138320963, -966.7519712100737, -971.6646453799419]\n"
     ]
    }
   ],
   "source": [
    "print(helix_prob_list)\n",
    "print(strand_prob_list)\n",
    "print(turn_prob_list)\n",
    "print(unk_prob_list)"
   ]
  },
  {
   "cell_type": "markdown",
   "metadata": {},
   "source": [
    "### Back-propagation for the path"
   ]
  },
  {
   "cell_type": "code",
   "execution_count": 37,
   "metadata": {},
   "outputs": [],
   "source": [
    "predicted_seq = 'U'"
   ]
  },
  {
   "cell_type": "code",
   "execution_count": 38,
   "metadata": {},
   "outputs": [],
   "source": [
    "curr = 'Strand'\n",
    "i = len(prot_seq)-1\n",
    "\n",
    "while i > 0:\n",
    "    if curr == 'Helix':\n",
    "        if helix_prob_list[i] == helix_prob_list[i-1] + np.log2(Helix.transitions['Helix']) + np.log2(Helix.emissions[prot_seq[i]]):\n",
    "            curr = 'Helix'\n",
    "            predicted_seq = 'H' + predicted_seq\n",
    "        \n",
    "        elif helix_prob_list[i] == strand_prob_list[i-1] + np.log2(Strand.transitions['Helix']) + np.log2(Helix.emissions[prot_seq[i]]):\n",
    "            curr = 'Strand'\n",
    "            predicted_seq = 'E' + predicted_seq\n",
    "        \n",
    "        elif helix_prob_list[i] == turn_prob_list[i-1] + np.log2(Turn.transitions['Helix']) + np.log2(Helix.emissions[prot_seq[i]]):\n",
    "            curr = 'Turn'\n",
    "            predicted_seq = 'T' + predicted_seq\n",
    "        \n",
    "        elif helix_prob_list[i] == unk_prob_list[i-1] + np.log2(Unknown.transitions['Helix']) + np.log2(Helix.emissions[prot_seq[i]]):\n",
    "            curr = 'Unknown'\n",
    "            predicted_seq = 'U' + predicted_seq\n",
    "        \n",
    "        else:\n",
    "            print('couldnt find equality')\n",
    "\n",
    "\n",
    "    elif curr == 'Strand':\n",
    "        if strand_prob_list[i] == helix_prob_list[i-1] + np.log2(Helix.transitions['Strand']) + np.log2(Strand.emissions[prot_seq[i]]):\n",
    "            curr = 'Helix'\n",
    "            predicted_seq = 'H' + predicted_seq\n",
    "        \n",
    "        elif strand_prob_list[i] == strand_prob_list[i-1] + np.log2(Strand.transitions['Strand']) + np.log2(Strand.emissions[prot_seq[i]]):\n",
    "            curr = 'Strand'\n",
    "            predicted_seq = 'E' + predicted_seq\n",
    "\n",
    "        elif strand_prob_list[i] == turn_prob_list[i-1] + np.log2(Turn.transitions['Strand']) + np.log2(Strand.emissions[prot_seq[i]]):\n",
    "            curr = 'Turn'\n",
    "            predicted_seq = 'T' + predicted_seq\n",
    "        \n",
    "        elif strand_prob_list[i] == unk_prob_list[i-1] + np.log2(Unknown.transitions['Strand']) + np.log2(Strand.emissions[prot_seq[i]]):\n",
    "            curr = 'Unknown'\n",
    "            predicted_seq = 'U' + predicted_seq\n",
    "\n",
    "        else:\n",
    "            print('couldnt find equality')\n",
    "\n",
    "    \n",
    "    elif curr == 'Turn':\n",
    "        if turn_prob_list[i] == helix_prob_list[i-1] + np.log2(Helix.transitions['Turn']) + np.log2(Turn.emissions[prot_seq[i]]):\n",
    "            curr = 'Helix'\n",
    "            predicted_seq = 'H' + predicted_seq\n",
    "        \n",
    "        elif turn_prob_list[i] == strand_prob_list[i-1] + np.log2(Strand.transitions['Turn']) + np.log2(Turn.emissions[prot_seq[i]]):\n",
    "            curr = 'Strand'\n",
    "            predicted_seq = 'E' + predicted_seq\n",
    "        \n",
    "        elif turn_prob_list[i] == turn_prob_list[i-1] + np.log2(Turn.transitions['Turn']) + np.log2(Turn.emissions[prot_seq[i]]):\n",
    "            curr = 'Turn'\n",
    "            predicted_seq = 'T' + predicted_seq\n",
    "        \n",
    "        elif turn_prob_list[i] == unk_prob_list[i-1] + np.log2(Unknown.transitions['Turn']) + np.log2(Turn.emissions[prot_seq[i]]):\n",
    "            curr = 'Unknown'\n",
    "            predicted_seq = 'U' + predicted_seq\n",
    "        \n",
    "        else:\n",
    "            print('couldnt find equality')\n",
    "    \n",
    "\n",
    "    elif curr == 'Unknown':\n",
    "        if unk_prob_list[i] == helix_prob_list[i-1] + np.log2(Helix.transitions['Unknown']) + np.log2(Unknown.emissions[prot_seq[i]]):\n",
    "            curr = 'Helix'\n",
    "            predicted_seq = 'H' + predicted_seq\n",
    "        \n",
    "        elif unk_prob_list[i] == strand_prob_list[i-1] + np.log2(Strand.transitions['Unknown']) + np.log2(Unknown.emissions[prot_seq[i]]):\n",
    "            curr = 'Strand'\n",
    "            predicted_seq = 'E' + predicted_seq\n",
    "        \n",
    "        elif unk_prob_list[i] == turn_prob_list[i-1] + np.log2(Turn.transitions['Unknown']) + np.log2(Unknown.emissions[prot_seq[i]]):\n",
    "            curr = 'Turn'\n",
    "            predicted_seq = 'T' + predicted_seq\n",
    "\n",
    "        elif unk_prob_list[i] == unk_prob_list[i-1] + np.log2(Unknown.transitions['Unknown']) + np.log2(Unknown.emissions[prot_seq[i]]):\n",
    "            curr = 'Unknown'\n",
    "            predicted_seq = 'U' + predicted_seq\n",
    "        \n",
    "        else:\n",
    "            print('couldnt find equality')\n",
    "    \n",
    "    \n",
    "    i -=1"
   ]
  },
  {
   "cell_type": "code",
   "execution_count": 39,
   "metadata": {},
   "outputs": [
    {
     "data": {
      "text/plain": [
       "'UUUUUUUUUUUUUUUUUUUUUUUUUUUUUUUUHHHHHHHHHHHHTTTTTHHHHUUUUUEEEEEEEEEEEEEEEEHHHHHHHHHHHUUUUUUUUUEEEEEEEEEEEEETTTTTHHHHHHHHHHHHHHHHHHHHHHHHHHHUUUUUUUUHHHHHHHHHHUUUHHHHHHHHHHHHHEEEEEU'"
      ]
     },
     "execution_count": 39,
     "metadata": {},
     "output_type": "execute_result"
    }
   ],
   "source": [
    "predicted_seq"
   ]
  },
  {
   "cell_type": "code",
   "execution_count": 40,
   "metadata": {},
   "outputs": [
    {
     "name": "stdout",
     "output_type": "stream",
     "text": [
      "179\n"
     ]
    }
   ],
   "source": [
    "print(len(predicted_seq))"
   ]
  },
  {
   "cell_type": "markdown",
   "metadata": {},
   "source": [
    "# Results"
   ]
  },
  {
   "cell_type": "code",
   "execution_count": 41,
   "metadata": {},
   "outputs": [
    {
     "name": "stdout",
     "output_type": "stream",
     "text": [
      "3.1607927056864507e-293\n"
     ]
    }
   ],
   "source": [
    "# probability of the most probable path\n",
    "print(pow(2,-971.6646453799419))"
   ]
  },
  {
   "cell_type": "markdown",
   "metadata": {},
   "source": [
    "I've downloaded UBE2C_HUMAN.json file from uniprot to compare with the prediction."
   ]
  },
  {
   "cell_type": "code",
   "execution_count": 42,
   "metadata": {},
   "outputs": [
    {
     "name": "stdout",
     "output_type": "stream",
     "text": [
      "Helix 30 45\n",
      "Beta strand 50 54\n",
      "Beta strand 61 68\n",
      "Beta strand 78 84\n",
      "Turn 87 91\n",
      "Beta strand 95 100\n",
      "Beta strand 111 113\n",
      "Helix 116 118\n",
      "Turn 119 121\n",
      "Helix 128 140\n",
      "Helix 150 155\n",
      "Helix 159 172\n"
     ]
    }
   ],
   "source": [
    "import json\n",
    "true_seq = 'U' * len(prot_seq)\n",
    "\n",
    "with open('UBE2C_HUMAN.json', 'r') as file:\n",
    "    data = json.load(file)\n",
    "\n",
    "    for feature in data['features']:\n",
    "        type = feature['type']\n",
    "        start = feature['location']['start']['value']\n",
    "        end = feature['location']['end']['value']\n",
    "\n",
    "        print(type, start, end)\n",
    "\n",
    "        if type == 'Helix':\n",
    "            true_seq = list(true_seq)\n",
    "            for i in range(start, end+1):\n",
    "                true_seq[i] = 'H'\n",
    "            true_seq = ''.join(true_seq)\n",
    "\n",
    "        elif type == 'Beta strand':\n",
    "            true_seq = list(true_seq)\n",
    "            for i in range(start, end+1):\n",
    "                true_seq[i] = 'E'\n",
    "            true_seq = ''.join(true_seq)\n",
    "\n",
    "        elif type == 'Turn':\n",
    "            true_seq = list(true_seq)\n",
    "            for i in range(start, end+1):\n",
    "                true_seq[i] = 'T'\n",
    "            true_seq = ''.join(true_seq)"
   ]
  },
  {
   "cell_type": "code",
   "execution_count": 43,
   "metadata": {},
   "outputs": [
    {
     "data": {
      "text/plain": [
       "'UUUUUUUUUUUUUUUUUUUUUUUUUUUUUUHHHHHHHHHHHHHHHHUUUUEEEEEUUUUUUEEEEEEEEUUUUUUUUUEEEEEEEUUTTTTTUUUEEEEEEUUUUUUUUUUEEEUUHHHTTTUUUUUUHHHHHHHHHHHHHUUUUUUUUUHHHHHHUUUHHHHHHHHHHHHHHUUUUUU'"
      ]
     },
     "execution_count": 43,
     "metadata": {},
     "output_type": "execute_result"
    }
   ],
   "source": [
    "true_seq"
   ]
  },
  {
   "cell_type": "code",
   "execution_count": 44,
   "metadata": {},
   "outputs": [
    {
     "name": "stdout",
     "output_type": "stream",
     "text": [
      "UUUUUUUUUUUUUUUUUUUUUUUUUUUUUUHHHHHHHHHHHHHHHHUUUUEEEEEUUUUUUEEEEEEEEUUUUUUUUUEEEEEEEUUTTTTTUUUEEEEEEUUUUUUUUUUEEEUUHHHTTTUUUUUUHHHHHHHHHHHHHUUUUUUUUUHHHHHHUUUHHHHHHHHHHHHHHUUUUUU\n",
      "UUUUUUUUUUUUUUUUUUUUUUUUUUUUUUUUHHHHHHHHHHHHTTTTTHHHHUUUUUEEEEEEEEEEEEEEEEHHHHHHHHHHHUUUUUUUUUEEEEEEEEEEEEETTTTTHHHHHHHHHHHHHHHHHHHHHHHHHHHUUUUUUUUHHHHHHHHHHUUUHHHHHHHHHHHHHEEEEEU\n"
     ]
    }
   ],
   "source": [
    "print(true_seq)\n",
    "print(predicted_seq)"
   ]
  },
  {
   "cell_type": "markdown",
   "metadata": {},
   "source": [
    "## Visualisation"
   ]
  },
  {
   "cell_type": "code",
   "execution_count": 45,
   "metadata": {},
   "outputs": [],
   "source": [
    "from sklearn.metrics import confusion_matrix, accuracy_score\n",
    "import seaborn as sns\n",
    "import matplotlib.pyplot as plt"
   ]
  },
  {
   "cell_type": "code",
   "execution_count": 46,
   "metadata": {},
   "outputs": [],
   "source": [
    "real = np.array(list(true_seq))\n",
    "predicted = np.array(list(predicted_seq))"
   ]
  },
  {
   "cell_type": "code",
   "execution_count": 47,
   "metadata": {},
   "outputs": [],
   "source": [
    "cm = confusion_matrix(real, predicted)"
   ]
  },
  {
   "cell_type": "code",
   "execution_count": 48,
   "metadata": {},
   "outputs": [
    {
     "data": {
      "image/png": "[encoded data removed]",
      "text/plain": [
       "<Figure size 640x480 with 2 Axes>"
      ]
     },
     "metadata": {},
     "output_type": "display_data"
    }
   ],
   "source": [
    "sns.heatmap(cm, \n",
    "            annot=True,\n",
    "            fmt='g',\n",
    "            xticklabels=['H','E','T','U'],\n",
    "            yticklabels=['H','E','T','U'])\n",
    "plt.ylabel('Prediction',fontsize=13)\n",
    "plt.xlabel('Actual',fontsize=13)\n",
    "plt.title('Confusion Matrix',fontsize=17)\n",
    "plt.show()"
   ]
  },
  {
   "cell_type": "code",
   "execution_count": 49,
   "metadata": {},
   "outputs": [
    {
     "data": {
      "text/plain": [
       "0.5865921787709497"
      ]
     },
     "execution_count": 49,
     "metadata": {},
     "output_type": "execute_result"
    }
   ],
   "source": [
    "accuracy_score(real, predicted)"
   ]
  },
  {
   "cell_type": "code",
   "execution_count": 50,
   "metadata": {},
   "outputs": [
    {
     "data": {
      "text/plain": [
       "'MASQNRDPAATSVAAARKGAEPSGGAARGPVGKRLQQELMTLMMSGDKGISAFPESDNLFKWVGTIHGAAGTVYEDLRYKLSLEFPSGYPYNAPTVKFLTPCYHPNVDTQGNICLDILKEKWSALYDVRTILLSIQSLLGEPNIDSPLNTHAAELWKNPTAFKKYLQETYSKQVTSQEP'"
      ]
     },
     "execution_count": 50,
     "metadata": {},
     "output_type": "execute_result"
    }
   ],
   "source": [
    "prot_seq"
   ]
  },
  {
   "cell_type": "code",
   "execution_count": 51,
   "metadata": {},
   "outputs": [
    {
     "data": {
      "text/plain": [
       "'UUUUUUUUUUUUUUUUUUUUUUUUUUUUUUUUHHHHHHHHHHHHTTTTTHHHHUUUUUEEEEEEEEEEEEEEEEHHHHHHHHHHHUUUUUUUUUEEEEEEEEEEEEETTTTTHHHHHHHHHHHHHHHHHHHHHHHHHHHUUUUUUUUHHHHHHHHHHUUUHHHHHHHHHHHHHEEEEEU'"
      ]
     },
     "execution_count": 51,
     "metadata": {},
     "output_type": "execute_result"
    }
   ],
   "source": [
    "predicted_seq"
   ]
  },
  {
   "cell_type": "code",
   "execution_count": 52,
   "metadata": {},
   "outputs": [],
   "source": [
    "helixes = []\n",
    "strands = []\n",
    "turns = []"
   ]
  },
  {
   "cell_type": "code",
   "execution_count": 53,
   "metadata": {},
   "outputs": [],
   "source": [
    "i = 0\n",
    "curr = predicted_seq[i]\n",
    "\n",
    "while i < len(predicted_seq):\n",
    "    \n",
    "    start_index = i\n",
    "    while curr == predicted_seq[i]:\n",
    "        i += 1\n",
    "        if i == len(predicted_seq):\n",
    "            break\n",
    "    \n",
    "    if curr == 'H':\n",
    "        helixes.append((start_index, i-1))\n",
    "    elif curr == 'E':\n",
    "        strands.append((start_index, i-1))\n",
    "    elif curr == 'T':\n",
    "        turns.append((start_index, i-1))\n",
    "    \n",
    "    if i != len(predicted_seq):\n",
    "        curr = predicted_seq[i]"
   ]
  },
  {
   "cell_type": "code",
   "execution_count": 54,
   "metadata": {},
   "outputs": [
    {
     "data": {
      "text/plain": [
       "[(32, 43), (49, 52), (74, 84), (112, 138), (147, 156), (160, 172)]"
      ]
     },
     "execution_count": 54,
     "metadata": {},
     "output_type": "execute_result"
    }
   ],
   "source": [
    "helixes"
   ]
  },
  {
   "cell_type": "code",
   "execution_count": 55,
   "metadata": {},
   "outputs": [
    {
     "data": {
      "text/plain": [
       "[(58, 73), (94, 106), (173, 177)]"
      ]
     },
     "execution_count": 55,
     "metadata": {},
     "output_type": "execute_result"
    }
   ],
   "source": [
    "strands"
   ]
  },
  {
   "cell_type": "code",
   "execution_count": 56,
   "metadata": {},
   "outputs": [
    {
     "data": {
      "text/plain": [
       "[(44, 48), (107, 111)]"
      ]
     },
     "execution_count": 56,
     "metadata": {},
     "output_type": "execute_result"
    }
   ],
   "source": [
    "turns"
   ]
  },
  {
   "cell_type": "code",
   "execution_count": 57,
   "metadata": {},
   "outputs": [],
   "source": [
    "formatted_pred = 'O00762\\tUBE2C_HUMAN\\t' + prot_seq + '\\t'\n",
    "formatted_helix = ''\n",
    "formatted_strand = ''\n",
    "formatted_turn = ''"
   ]
  },
  {
   "cell_type": "code",
   "execution_count": 58,
   "metadata": {},
   "outputs": [],
   "source": [
    "for s,e in helixes:\n",
    "    formatted_helix += f\"HELIX {s}..{e}; \"\n",
    "\n",
    "for s,e in strands:\n",
    "    formatted_strand += f\"STRAND {s}..{e}; \"\n",
    "\n",
    "for s,e in turns:\n",
    "    formatted_turn += f\"TURN {s}..{e}; \""
   ]
  },
  {
   "cell_type": "code",
   "execution_count": 59,
   "metadata": {},
   "outputs": [
    {
     "data": {
      "text/plain": [
       "'HELIX 32..43; HELIX 49..52; HELIX 74..84; HELIX 112..138; HELIX 147..156; HELIX 160..172; '"
      ]
     },
     "execution_count": 59,
     "metadata": {},
     "output_type": "execute_result"
    }
   ],
   "source": [
    "formatted_helix"
   ]
  },
  {
   "cell_type": "code",
   "execution_count": 60,
   "metadata": {},
   "outputs": [
    {
     "data": {
      "text/plain": [
       "'TURN 44..48; TURN 107..111; '"
      ]
     },
     "execution_count": 60,
     "metadata": {},
     "output_type": "execute_result"
    }
   ],
   "source": [
    "formatted_turn"
   ]
  },
  {
   "cell_type": "code",
   "execution_count": 61,
   "metadata": {},
   "outputs": [],
   "source": [
    "formatted_pred += formatted_helix.strip() + '\\t' + formatted_strand.strip() + '\\t' + formatted_turn.strip()"
   ]
  },
  {
   "cell_type": "code",
   "execution_count": 62,
   "metadata": {},
   "outputs": [
    {
     "data": {
      "text/plain": [
       "'O00762\\tUBE2C_HUMAN\\tMASQNRDPAATSVAAARKGAEPSGGAARGPVGKRLQQELMTLMMSGDKGISAFPESDNLFKWVGTIHGAAGTVYEDLRYKLSLEFPSGYPYNAPTVKFLTPCYHPNVDTQGNICLDILKEKWSALYDVRTILLSIQSLLGEPNIDSPLNTHAAELWKNPTAFKKYLQETYSKQVTSQEP\\tHELIX 32..43; HELIX 49..52; HELIX 74..84; HELIX 112..138; HELIX 147..156; HELIX 160..172;\\tSTRAND 58..73; STRAND 94..106; STRAND 173..177;\\tTURN 44..48; TURN 107..111;'"
      ]
     },
     "execution_count": 62,
     "metadata": {},
     "output_type": "execute_result"
    }
   ],
   "source": [
    "formatted_pred"
   ]
  },
  {
   "cell_type": "code",
   "execution_count": 63,
   "metadata": {},
   "outputs": [
    {
     "data": {
      "text/plain": [
       "['O00762',\n",
       " 'UBE2C_HUMAN',\n",
       " 'MASQNRDPAATSVAAARKGAEPSGGAARGPVGKRLQQELMTLMMSGDKGISAFPESDNLFKWVGTIHGAAGTVYEDLRYKLSLEFPSGYPYNAPTVKFLTPCYHPNVDTQGNICLDILKEKWSALYDVRTILLSIQSLLGEPNIDSPLNTHAAELWKNPTAFKKYLQETYSKQVTSQEP',\n",
       " 'HELIX 32..43; HELIX 49..52; HELIX 74..84; HELIX 112..138; HELIX 147..156; HELIX 160..172;',\n",
       " 'STRAND 58..73; STRAND 94..106; STRAND 173..177;',\n",
       " 'TURN 44..48; TURN 107..111;']"
      ]
     },
     "execution_count": 63,
     "metadata": {},
     "output_type": "execute_result"
    }
   ],
   "source": [
    "formatted_pred.split('\\t')"
   ]
  },
  {
   "cell_type": "code",
   "execution_count": null,
   "metadata": {},
   "outputs": [],
   "source": []
  }
 ],
 "metadata": {
  "kernelspec": {
   "display_name": "Python 3",
   "language": "python",
   "name": "python3"
  },
  "language_info": {
   "codemirror_mode": {
    "name": "ipython",
    "version": 3
   },
   "file_extension": ".py",
   "mimetype": "text/x-python",
   "name": "python",
   "nbconvert_exporter": "python",
   "pygments_lexer": "ipython3",
   "version": "3.10.7"
  }
 },
 "nbformat": 4,
 "nbformat_minor": 2
}
